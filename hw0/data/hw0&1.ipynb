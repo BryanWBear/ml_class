{
 "cells": [
  {
   "cell_type": "markdown",
   "metadata": {},
   "source": [
    "# $k$-Nearest Neighbors"
   ]
  },
  {
   "cell_type": "code",
   "execution_count": 1,
   "metadata": {},
   "outputs": [
    {
     "data": {
      "text/plain": [
       "0.9182958340544896"
      ]
     },
     "execution_count": 1,
     "metadata": {},
     "output_type": "execute_result"
    }
   ],
   "source": [
    "# imports\n",
    "\n",
    "import pandas as pd\n",
    "import numpy as np\n",
    "\n",
    "-(np.log2(2/3)*(2/3) + np.log2(1/3)*(1/3))"
   ]
  },
  {
   "cell_type": "markdown",
   "metadata": {},
   "source": [
    "## Save Data To Files For CV"
   ]
  },
  {
   "cell_type": "code",
   "execution_count": 4,
   "metadata": {},
   "outputs": [
    {
     "data": {
      "text/html": [
       "<div>\n",
       "<style scoped>\n",
       "    .dataframe tbody tr th:only-of-type {\n",
       "        vertical-align: middle;\n",
       "    }\n",
       "\n",
       "    .dataframe tbody tr th {\n",
       "        vertical-align: top;\n",
       "    }\n",
       "\n",
       "    .dataframe thead th {\n",
       "        text-align: right;\n",
       "    }\n",
       "</style>\n",
       "<table border=\"1\" class=\"dataframe\">\n",
       "  <thead>\n",
       "    <tr style=\"text-align: right;\">\n",
       "      <th></th>\n",
       "      <th>0</th>\n",
       "      <th>1</th>\n",
       "      <th>2</th>\n",
       "      <th>3</th>\n",
       "      <th>4</th>\n",
       "      <th>5</th>\n",
       "      <th>6</th>\n",
       "      <th>7</th>\n",
       "      <th>8</th>\n",
       "      <th>9</th>\n",
       "      <th>10</th>\n",
       "      <th>11</th>\n",
       "      <th>12</th>\n",
       "      <th>13</th>\n",
       "    </tr>\n",
       "  </thead>\n",
       "  <tbody>\n",
       "    <tr>\n",
       "      <th>0</th>\n",
       "      <td>63.0</td>\n",
       "      <td>1.0</td>\n",
       "      <td>1.0</td>\n",
       "      <td>145.0</td>\n",
       "      <td>233.0</td>\n",
       "      <td>1.0</td>\n",
       "      <td>2.0</td>\n",
       "      <td>150.0</td>\n",
       "      <td>0.0</td>\n",
       "      <td>2.3</td>\n",
       "      <td>3.0</td>\n",
       "      <td>0.0</td>\n",
       "      <td>6.0</td>\n",
       "      <td>0</td>\n",
       "    </tr>\n",
       "    <tr>\n",
       "      <th>1</th>\n",
       "      <td>67.0</td>\n",
       "      <td>1.0</td>\n",
       "      <td>4.0</td>\n",
       "      <td>160.0</td>\n",
       "      <td>286.0</td>\n",
       "      <td>0.0</td>\n",
       "      <td>2.0</td>\n",
       "      <td>108.0</td>\n",
       "      <td>1.0</td>\n",
       "      <td>1.5</td>\n",
       "      <td>2.0</td>\n",
       "      <td>3.0</td>\n",
       "      <td>3.0</td>\n",
       "      <td>2</td>\n",
       "    </tr>\n",
       "    <tr>\n",
       "      <th>2</th>\n",
       "      <td>67.0</td>\n",
       "      <td>1.0</td>\n",
       "      <td>4.0</td>\n",
       "      <td>120.0</td>\n",
       "      <td>229.0</td>\n",
       "      <td>0.0</td>\n",
       "      <td>2.0</td>\n",
       "      <td>129.0</td>\n",
       "      <td>1.0</td>\n",
       "      <td>2.6</td>\n",
       "      <td>2.0</td>\n",
       "      <td>2.0</td>\n",
       "      <td>7.0</td>\n",
       "      <td>1</td>\n",
       "    </tr>\n",
       "    <tr>\n",
       "      <th>3</th>\n",
       "      <td>37.0</td>\n",
       "      <td>1.0</td>\n",
       "      <td>3.0</td>\n",
       "      <td>130.0</td>\n",
       "      <td>250.0</td>\n",
       "      <td>0.0</td>\n",
       "      <td>0.0</td>\n",
       "      <td>187.0</td>\n",
       "      <td>0.0</td>\n",
       "      <td>3.5</td>\n",
       "      <td>3.0</td>\n",
       "      <td>0.0</td>\n",
       "      <td>3.0</td>\n",
       "      <td>0</td>\n",
       "    </tr>\n",
       "    <tr>\n",
       "      <th>4</th>\n",
       "      <td>41.0</td>\n",
       "      <td>0.0</td>\n",
       "      <td>2.0</td>\n",
       "      <td>130.0</td>\n",
       "      <td>204.0</td>\n",
       "      <td>0.0</td>\n",
       "      <td>2.0</td>\n",
       "      <td>172.0</td>\n",
       "      <td>0.0</td>\n",
       "      <td>1.4</td>\n",
       "      <td>1.0</td>\n",
       "      <td>0.0</td>\n",
       "      <td>3.0</td>\n",
       "      <td>0</td>\n",
       "    </tr>\n",
       "  </tbody>\n",
       "</table>\n",
       "</div>"
      ],
      "text/plain": [
       "     0    1    2      3      4    5    6      7    8    9    10   11   12  13\n",
       "0  63.0  1.0  1.0  145.0  233.0  1.0  2.0  150.0  0.0  2.3  3.0  0.0  6.0   0\n",
       "1  67.0  1.0  4.0  160.0  286.0  0.0  2.0  108.0  1.0  1.5  2.0  3.0  3.0   2\n",
       "2  67.0  1.0  4.0  120.0  229.0  0.0  2.0  129.0  1.0  2.6  2.0  2.0  7.0   1\n",
       "3  37.0  1.0  3.0  130.0  250.0  0.0  0.0  187.0  0.0  3.5  3.0  0.0  3.0   0\n",
       "4  41.0  0.0  2.0  130.0  204.0  0.0  2.0  172.0  0.0  1.4  1.0  0.0  3.0   0"
      ]
     },
     "execution_count": 4,
     "metadata": {},
     "output_type": "execute_result"
    }
   ],
   "source": [
    "df = pd.read_csv('processed.cleveland.data', header=None)\n",
    "df.head()"
   ]
  },
  {
   "cell_type": "code",
   "execution_count": 5,
   "metadata": {},
   "outputs": [
    {
     "data": {
      "text/plain": [
       "(303, 14)"
      ]
     },
     "execution_count": 5,
     "metadata": {},
     "output_type": "execute_result"
    }
   ],
   "source": [
    "df.shape"
   ]
  },
  {
   "cell_type": "code",
   "execution_count": 6,
   "metadata": {},
   "outputs": [],
   "source": [
    "# num is the label column\n",
    "\n",
    "features = ['age', 'sex', 'cp', 'trestbps', 'chol', 'fbs', 'restecg', 'thalach', 'exang', 'oldpeak', 'slope', 'ca', 'thal', 'num'] # from heart-disease.names number 7"
   ]
  },
  {
   "cell_type": "code",
   "execution_count": 7,
   "metadata": {},
   "outputs": [
    {
     "data": {
      "text/html": [
       "<div>\n",
       "<style scoped>\n",
       "    .dataframe tbody tr th:only-of-type {\n",
       "        vertical-align: middle;\n",
       "    }\n",
       "\n",
       "    .dataframe tbody tr th {\n",
       "        vertical-align: top;\n",
       "    }\n",
       "\n",
       "    .dataframe thead th {\n",
       "        text-align: right;\n",
       "    }\n",
       "</style>\n",
       "<table border=\"1\" class=\"dataframe\">\n",
       "  <thead>\n",
       "    <tr style=\"text-align: right;\">\n",
       "      <th></th>\n",
       "      <th>age</th>\n",
       "      <th>sex</th>\n",
       "      <th>cp</th>\n",
       "      <th>trestbps</th>\n",
       "      <th>chol</th>\n",
       "      <th>fbs</th>\n",
       "      <th>restecg</th>\n",
       "      <th>thalach</th>\n",
       "      <th>exang</th>\n",
       "      <th>oldpeak</th>\n",
       "      <th>slope</th>\n",
       "      <th>ca</th>\n",
       "      <th>thal</th>\n",
       "      <th>num</th>\n",
       "    </tr>\n",
       "  </thead>\n",
       "  <tbody>\n",
       "    <tr>\n",
       "      <th>0</th>\n",
       "      <td>63.0</td>\n",
       "      <td>1.0</td>\n",
       "      <td>1.0</td>\n",
       "      <td>145.0</td>\n",
       "      <td>233.0</td>\n",
       "      <td>1.0</td>\n",
       "      <td>2.0</td>\n",
       "      <td>150.0</td>\n",
       "      <td>0.0</td>\n",
       "      <td>2.3</td>\n",
       "      <td>3.0</td>\n",
       "      <td>0.0</td>\n",
       "      <td>6.0</td>\n",
       "      <td>0</td>\n",
       "    </tr>\n",
       "    <tr>\n",
       "      <th>1</th>\n",
       "      <td>67.0</td>\n",
       "      <td>1.0</td>\n",
       "      <td>4.0</td>\n",
       "      <td>160.0</td>\n",
       "      <td>286.0</td>\n",
       "      <td>0.0</td>\n",
       "      <td>2.0</td>\n",
       "      <td>108.0</td>\n",
       "      <td>1.0</td>\n",
       "      <td>1.5</td>\n",
       "      <td>2.0</td>\n",
       "      <td>3.0</td>\n",
       "      <td>3.0</td>\n",
       "      <td>2</td>\n",
       "    </tr>\n",
       "    <tr>\n",
       "      <th>2</th>\n",
       "      <td>67.0</td>\n",
       "      <td>1.0</td>\n",
       "      <td>4.0</td>\n",
       "      <td>120.0</td>\n",
       "      <td>229.0</td>\n",
       "      <td>0.0</td>\n",
       "      <td>2.0</td>\n",
       "      <td>129.0</td>\n",
       "      <td>1.0</td>\n",
       "      <td>2.6</td>\n",
       "      <td>2.0</td>\n",
       "      <td>2.0</td>\n",
       "      <td>7.0</td>\n",
       "      <td>1</td>\n",
       "    </tr>\n",
       "    <tr>\n",
       "      <th>3</th>\n",
       "      <td>37.0</td>\n",
       "      <td>1.0</td>\n",
       "      <td>3.0</td>\n",
       "      <td>130.0</td>\n",
       "      <td>250.0</td>\n",
       "      <td>0.0</td>\n",
       "      <td>0.0</td>\n",
       "      <td>187.0</td>\n",
       "      <td>0.0</td>\n",
       "      <td>3.5</td>\n",
       "      <td>3.0</td>\n",
       "      <td>0.0</td>\n",
       "      <td>3.0</td>\n",
       "      <td>0</td>\n",
       "    </tr>\n",
       "    <tr>\n",
       "      <th>4</th>\n",
       "      <td>41.0</td>\n",
       "      <td>0.0</td>\n",
       "      <td>2.0</td>\n",
       "      <td>130.0</td>\n",
       "      <td>204.0</td>\n",
       "      <td>0.0</td>\n",
       "      <td>2.0</td>\n",
       "      <td>172.0</td>\n",
       "      <td>0.0</td>\n",
       "      <td>1.4</td>\n",
       "      <td>1.0</td>\n",
       "      <td>0.0</td>\n",
       "      <td>3.0</td>\n",
       "      <td>0</td>\n",
       "    </tr>\n",
       "  </tbody>\n",
       "</table>\n",
       "</div>"
      ],
      "text/plain": [
       "    age  sex   cp  trestbps   chol  fbs  restecg  thalach  exang  oldpeak  \\\n",
       "0  63.0  1.0  1.0     145.0  233.0  1.0      2.0    150.0    0.0      2.3   \n",
       "1  67.0  1.0  4.0     160.0  286.0  0.0      2.0    108.0    1.0      1.5   \n",
       "2  67.0  1.0  4.0     120.0  229.0  0.0      2.0    129.0    1.0      2.6   \n",
       "3  37.0  1.0  3.0     130.0  250.0  0.0      0.0    187.0    0.0      3.5   \n",
       "4  41.0  0.0  2.0     130.0  204.0  0.0      2.0    172.0    0.0      1.4   \n",
       "\n",
       "   slope   ca thal  num  \n",
       "0    3.0  0.0  6.0    0  \n",
       "1    2.0  3.0  3.0    2  \n",
       "2    2.0  2.0  7.0    1  \n",
       "3    3.0  0.0  3.0    0  \n",
       "4    1.0  0.0  3.0    0  "
      ]
     },
     "execution_count": 7,
     "metadata": {},
     "output_type": "execute_result"
    }
   ],
   "source": [
    "df.columns = features\n",
    "\n",
    "df.head()"
   ]
  },
  {
   "cell_type": "code",
   "execution_count": 8,
   "metadata": {},
   "outputs": [],
   "source": [
    "# cast label to binary\n",
    "\n",
    "df['num'] = df['num'].apply(lambda x: 1 if x != 0 else 0)"
   ]
  },
  {
   "cell_type": "code",
   "execution_count": 18,
   "metadata": {},
   "outputs": [
    {
     "data": {
      "text/plain": [
       "3.0    166\n",
       "7.0    117\n",
       "6.0     18\n",
       "?        2\n",
       "Name: thal, dtype: int64"
      ]
     },
     "execution_count": 18,
     "metadata": {},
     "output_type": "execute_result"
    }
   ],
   "source": [
    "# features 1, 2, 5, 6, 8, 10, 11, 12\n",
    "\n",
    "df['thal'].value_counts()"
   ]
  },
  {
   "cell_type": "code",
   "execution_count": 11,
   "metadata": {},
   "outputs": [
    {
     "data": {
      "text/plain": [
       "0    164\n",
       "1    139\n",
       "Name: num, dtype: int64"
      ]
     },
     "execution_count": 11,
     "metadata": {},
     "output_type": "execute_result"
    }
   ],
   "source": [
    "df['num'].value_counts()"
   ]
  },
  {
   "cell_type": "code",
   "execution_count": 26,
   "metadata": {},
   "outputs": [
    {
     "data": {
      "text/plain": [
       "(297, 15)"
      ]
     },
     "execution_count": 26,
     "metadata": {},
     "output_type": "execute_result"
    }
   ],
   "source": [
    "# drop missing values \n",
    "\n",
    "df = df[(df.ca != '?') & (df.thal != '?')]\n",
    "df.shape"
   ]
  },
  {
   "cell_type": "code",
   "execution_count": 30,
   "metadata": {},
   "outputs": [],
   "source": [
    "# cast to float\n",
    "\n",
    "df['ca'] = df.ca.astype('float64')\n",
    "df['thal'] = df.thal.astype('float64')"
   ]
  },
  {
   "cell_type": "code",
   "execution_count": 31,
   "metadata": {},
   "outputs": [
    {
     "data": {
      "text/plain": [
       "(297, 14)"
      ]
     },
     "execution_count": 31,
     "metadata": {},
     "output_type": "execute_result"
    }
   ],
   "source": [
    "data_X = df.iloc[:, :-1].to_numpy()\n",
    "data_X.shape"
   ]
  },
  {
   "cell_type": "code",
   "execution_count": 32,
   "metadata": {},
   "outputs": [
    {
     "data": {
      "text/plain": [
       "(297,)"
      ]
     },
     "execution_count": 32,
     "metadata": {},
     "output_type": "execute_result"
    }
   ],
   "source": [
    "data_Y = df.iloc[:, -1].to_numpy()\n",
    "data_Y.shape"
   ]
  },
  {
   "cell_type": "code",
   "execution_count": 33,
   "metadata": {},
   "outputs": [],
   "source": [
    "# enumerate 0 ... 9 repeatedly until length of df\n",
    "\n",
    "from itertools import cycle\n",
    "\n",
    "lst_cycle = cycle(list(range(10)))\n",
    "enum = [next(lst_cycle)for i in range(len(df))]"
   ]
  },
  {
   "cell_type": "code",
   "execution_count": 34,
   "metadata": {},
   "outputs": [],
   "source": [
    "# permute samples\n",
    "\n",
    "df = df.sample(frac=1, random_state=42)"
   ]
  },
  {
   "cell_type": "code",
   "execution_count": 35,
   "metadata": {},
   "outputs": [],
   "source": [
    "# save to 10 different npy files\n",
    "\n",
    "df['enum'] = enum\n",
    "for i, group in df.groupby('enum'):\n",
    "    np.savez(f'heart_fold{i}', x=group.iloc[:, :-2].to_numpy(), y=group['num'].to_numpy(), example_names=group.index.to_numpy())"
   ]
  },
  {
   "cell_type": "markdown",
   "metadata": {},
   "source": [
    "## Naive KNN Algorithm"
   ]
  },
  {
   "cell_type": "code",
   "execution_count": 3,
   "metadata": {},
   "outputs": [],
   "source": [
    "test_data = np.load('heart_fold0.npz', allow_pickle=True)\n",
    "X = test_data['x']\n",
    "y = test_data['y']\n",
    "example_names = test_data['example_names']"
   ]
  },
  {
   "cell_type": "code",
   "execution_count": 4,
   "metadata": {},
   "outputs": [
    {
     "data": {
      "text/plain": [
       "((30, 13), (30,), (30,))"
      ]
     },
     "execution_count": 4,
     "metadata": {},
     "output_type": "execute_result"
    }
   ],
   "source": [
    "# confirm shapes look reasonable\n",
    "\n",
    "X.shape, y.shape, example_names.shape"
   ]
  },
  {
   "cell_type": "code",
   "execution_count": 5,
   "metadata": {},
   "outputs": [
    {
     "data": {
      "text/plain": [
       "array([1, 1, 0])"
      ]
     },
     "execution_count": 5,
     "metadata": {},
     "output_type": "execute_result"
    }
   ],
   "source": [
    "from collections import Counter\n",
    "import numpy as np\n",
    "\n",
    "class NaiveKNNClassifier:\n",
    "    def __init__(self, k):\n",
    "        self.k = k\n",
    "        self.data = None\n",
    "\n",
    "    def fit(self, X_train: np.array, y_train: np.array):\n",
    "        self.data = X_train\n",
    "        labels = y_train\n",
    "        self.labels = np.where(labels == 0, labels, 1) # cast to boolean\n",
    "\n",
    "    def predict_one(self, test_example: np.array):\n",
    "        assert self.data is not None\n",
    "        assert test_example.shape[0] == self.data.shape[1] # assert that arrays are broadcastable\n",
    "        norms = np.linalg.norm(test_example - self.data, axis=1)\n",
    "        sorted_norm_idx = np.argsort(norms)\n",
    "        sorted_norm_idx = sorted_norm_idx[:self.k]\n",
    "        common_counter = Counter(self.labels[sorted_norm_idx])\n",
    "        return common_counter.most_common(1)[0][0]\n",
    "\n",
    "    def predict(self, test_examples: np.array):\n",
    "        assert self.data is not None\n",
    "        assert test_examples.shape[1] == self.data.shape[1] # assert that arrays are broadcastable\n",
    "        return np.apply_along_axis(self.predict_one, 1, test_examples)\n",
    "        \n",
    "\n",
    "# unit test\n",
    "clf = NaiveKNNClassifier(3)\n",
    "clf.fit(np.array([[3, 4], [1, 2], [5, 6], [7, 8]]), np.array([1, 1, 0, 0]))\n",
    "clf.predict(np.array([[1, 1], [2, 2], [7, 7]]))"
   ]
  },
  {
   "cell_type": "markdown",
   "metadata": {},
   "source": [
    "## CV with KNN\n",
    "\n",
    "1. Implement the kNN algo (choose whatever distance function you want)\n",
    "2. Treat each of your 10 data folds from HW0 as a test set and\n",
    "compute the accuracy of kNN on it (and report the chosen k)\n",
    "3. Use the other 9 folds to choose a good k\n",
    "4. Consider k in {1, 3, 7, 15, 25, 51, 101}; each test set might get a different k\n",
    "5. Nine times, use 8 of these 9 folds as the train set and \n",
    "the 9th as the tune set.   Find which one k works best across all 9\n",
    "6. Then use all 9 folds as the train set plus the best k \n",
    "to compute the accuracy on the fold that is the test set"
   ]
  },
  {
   "cell_type": "markdown",
   "metadata": {},
   "source": [
    "### Back of the Envelope Calculation:\n",
    "\n",
    "1. Assume 10 folds and 10n total examples\n",
    "10 train-test folds and, for each of them, 9 train’-tune folds\n",
    "2. How many times will distanceSq(exA, exB) be called?\n",
    "\n",
    "(Assuming naive implementation of knn) per tune fold, $D$ will be called $8n \\cdot n \\cdot m$ times, where $m$ is the number of values of $k$ to try.\n",
    "Then per test fold, $D$ will be called $n \\cdot 9n$ times. Therefore $D$ is called a total of $720n^2m + 90n^2$ times."
   ]
  },
  {
   "cell_type": "markdown",
   "metadata": {},
   "source": [
    "10x\n",
    "    per tune fold have to do 8n*n \n",
    "    hence in total, 72n^2\n",
    "    +\n",
    "    9n^2 \n",
    "    = \n",
    "    81n^2\n",
    "hence 810n^2\n",
    "\n",
    "additional hw assignment: modify to cache then add a counter to see if number matches up with theoretical calculation"
   ]
  },
  {
   "cell_type": "code",
   "execution_count": 6,
   "metadata": {},
   "outputs": [
    {
     "data": {
      "text/plain": [
       "((60, 13), (60,), (60,))"
      ]
     },
     "execution_count": 6,
     "metadata": {},
     "output_type": "execute_result"
    }
   ],
   "source": [
    "# utility functions for loading files\n",
    "\n",
    "from typing import List\n",
    "\n",
    "def load_one_file(filename: str):\n",
    "    data = np.load(filename, allow_pickle=True)\n",
    "    X = data['x']\n",
    "    y = data['y']\n",
    "    example_names = data['example_names']\n",
    "    return X, y, example_names\n",
    "\n",
    "def load_folds(folds: List[int]):\n",
    "    all_X = []\n",
    "    all_y = []\n",
    "    all_example_names = []\n",
    "    for fold in folds:\n",
    "        filename = f'heart_fold{fold}.npz'\n",
    "        X, y, example_names = load_one_file(filename)\n",
    "        all_X.append(X)\n",
    "        all_y.append(y)\n",
    "        all_example_names.append(example_names)\n",
    "\n",
    "    X_folds = np.concatenate(all_X, axis=0)\n",
    "    y_folds = np.concatenate(all_y)\n",
    "    example_names_folds = np.concatenate(all_example_names)\n",
    "        \n",
    "    return X_folds, y_folds, example_names_folds\n",
    "\n",
    "X, y, example_names = load_folds([0, 1])\n",
    "X.shape, y.shape, example_names.shape"
   ]
  },
  {
   "cell_type": "code",
   "execution_count": 7,
   "metadata": {},
   "outputs": [],
   "source": [
    "# utility functions for calculating and displaying metrics\n",
    "\n",
    "def accuracy_score(y_true, y_pred):\n",
    "    assert len(y_true) == len(y_pred)\n",
    "    return (y_true == y_pred).sum() / len(y_true)"
   ]
  },
  {
   "cell_type": "code",
   "execution_count": 12,
   "metadata": {},
   "outputs": [
    {
     "name": "stderr",
     "output_type": "stream",
     "text": [
      "100%|██████████| 9/9 [00:00<00:00, 22.69it/s]\n",
      " 10%|█         | 1/10 [00:00<00:04,  2.23it/s]"
     ]
    },
    {
     "name": "stdout",
     "output_type": "stream",
     "text": [
      "tune accuracy matrix, fold 0: \n",
      "        1         3         7         15        25        101\n",
      "0  0.633333  0.566667  0.666667  0.600000  0.600000  0.533333\n",
      "1  0.433333  0.433333  0.733333  0.666667  0.733333  0.666667\n",
      "2  0.566667  0.700000  0.633333  0.633333  0.600000  0.633333\n",
      "3  0.433333  0.566667  0.600000  0.500000  0.666667  0.633333\n",
      "4  0.533333  0.666667  0.666667  0.633333  0.633333  0.666667\n",
      "5  0.700000  0.666667  0.700000  0.700000  0.666667  0.500000\n",
      "6  0.600000  0.633333  0.633333  0.566667  0.666667  0.533333\n",
      "7  0.586207  0.620690  0.655172  0.689655  0.758621  0.689655\n",
      "8  0.793103  0.793103  0.793103  0.689655  0.793103  0.689655\n",
      "average accuracy for each k, fold 0: \n",
      "1      0.586590\n",
      "3      0.627458\n",
      "7      0.675734\n",
      "15     0.631034\n",
      "25     0.679821\n",
      "101    0.616220\n",
      "dtype: float64\n",
      "optimal k for fold 0: 25\n"
     ]
    },
    {
     "name": "stderr",
     "output_type": "stream",
     "text": [
      "100%|██████████| 9/9 [00:00<00:00, 25.57it/s]\n",
      " 20%|██        | 2/10 [00:00<00:03,  2.43it/s]"
     ]
    },
    {
     "name": "stdout",
     "output_type": "stream",
     "text": [
      "tune accuracy matrix, fold 1: \n",
      "        1         3         7         15        25        101\n",
      "0  0.600000  0.566667  0.700000  0.666667  0.600000  0.533333\n",
      "1  0.466667  0.500000  0.666667  0.633333  0.700000  0.633333\n",
      "2  0.600000  0.700000  0.633333  0.633333  0.600000  0.700000\n",
      "3  0.400000  0.500000  0.500000  0.500000  0.633333  0.666667\n",
      "4  0.600000  0.700000  0.633333  0.633333  0.633333  0.633333\n",
      "5  0.600000  0.633333  0.633333  0.633333  0.700000  0.533333\n",
      "6  0.566667  0.633333  0.566667  0.533333  0.633333  0.533333\n",
      "7  0.620690  0.655172  0.724138  0.689655  0.724138  0.689655\n",
      "8  0.793103  0.793103  0.862069  0.724138  0.862069  0.793103\n",
      "average accuracy for each k, fold 1: \n",
      "1      0.583014\n",
      "3      0.631290\n",
      "7      0.657727\n",
      "15     0.627458\n",
      "25     0.676245\n",
      "101    0.635121\n",
      "dtype: float64\n",
      "optimal k for fold 1: 25\n"
     ]
    },
    {
     "name": "stderr",
     "output_type": "stream",
     "text": [
      "100%|██████████| 9/9 [00:00<00:00, 23.19it/s]\n",
      " 30%|███       | 3/10 [00:01<00:02,  2.38it/s]"
     ]
    },
    {
     "name": "stdout",
     "output_type": "stream",
     "text": [
      "tune accuracy matrix, fold 2: \n",
      "        1         3         7         15        25        101\n",
      "0  0.633333  0.633333  0.600000  0.566667  0.566667  0.533333\n",
      "1  0.433333  0.500000  0.666667  0.633333  0.666667  0.666667\n",
      "2  0.566667  0.700000  0.733333  0.666667  0.633333  0.666667\n",
      "3  0.333333  0.566667  0.666667  0.600000  0.600000  0.633333\n",
      "4  0.566667  0.633333  0.633333  0.600000  0.633333  0.666667\n",
      "5  0.633333  0.666667  0.666667  0.733333  0.700000  0.500000\n",
      "6  0.600000  0.633333  0.566667  0.600000  0.633333  0.533333\n",
      "7  0.655172  0.655172  0.724138  0.724138  0.724138  0.724138\n",
      "8  0.758621  0.793103  0.827586  0.724138  0.793103  0.689655\n",
      "average accuracy for each k, fold 2: \n",
      "1      0.575607\n",
      "3      0.642401\n",
      "7      0.676117\n",
      "15     0.649808\n",
      "25     0.661175\n",
      "101    0.623755\n",
      "dtype: float64\n",
      "optimal k for fold 2: 7\n"
     ]
    },
    {
     "name": "stderr",
     "output_type": "stream",
     "text": [
      "100%|██████████| 9/9 [00:00<00:00, 26.05it/s]\n",
      " 40%|████      | 4/10 [00:01<00:02,  2.43it/s]"
     ]
    },
    {
     "name": "stdout",
     "output_type": "stream",
     "text": [
      "tune accuracy matrix, fold 3: \n",
      "        1         3         7         15        25        101\n",
      "0  0.666667  0.566667  0.633333  0.633333  0.566667  0.566667\n",
      "1  0.433333  0.500000  0.700000  0.633333  0.600000  0.666667\n",
      "2  0.533333  0.633333  0.666667  0.633333  0.566667  0.666667\n",
      "3  0.400000  0.566667  0.600000  0.533333  0.666667  0.600000\n",
      "4  0.600000  0.700000  0.633333  0.600000  0.666667  0.633333\n",
      "5  0.633333  0.766667  0.733333  0.666667  0.733333  0.566667\n",
      "6  0.566667  0.733333  0.700000  0.600000  0.600000  0.566667\n",
      "7  0.586207  0.689655  0.724138  0.655172  0.724138  0.724138\n",
      "8  0.793103  0.724138  0.827586  0.689655  0.793103  0.724138\n",
      "average accuracy for each k, fold 3: \n",
      "1      0.579183\n",
      "3      0.653384\n",
      "7      0.690932\n",
      "15     0.627203\n",
      "25     0.657471\n",
      "101    0.634994\n",
      "dtype: float64\n",
      "optimal k for fold 3: 7\n"
     ]
    },
    {
     "name": "stderr",
     "output_type": "stream",
     "text": [
      "100%|██████████| 9/9 [00:00<00:00, 24.29it/s]\n",
      " 50%|█████     | 5/10 [00:02<00:02,  2.41it/s]"
     ]
    },
    {
     "name": "stdout",
     "output_type": "stream",
     "text": [
      "tune accuracy matrix, fold 4: \n",
      "        1         3         7         15        25        101\n",
      "0  0.700000  0.600000  0.666667  0.566667  0.533333  0.533333\n",
      "1  0.433333  0.600000  0.700000  0.633333  0.700000  0.633333\n",
      "2  0.533333  0.666667  0.700000  0.666667  0.666667  0.666667\n",
      "3  0.466667  0.600000  0.600000  0.566667  0.600000  0.633333\n",
      "4  0.533333  0.666667  0.633333  0.633333  0.600000  0.666667\n",
      "5  0.633333  0.600000  0.700000  0.666667  0.600000  0.533333\n",
      "6  0.566667  0.666667  0.600000  0.600000  0.700000  0.533333\n",
      "7  0.620690  0.689655  0.758621  0.655172  0.655172  0.724138\n",
      "8  0.758621  0.724138  0.758621  0.655172  0.862069  0.724138\n",
      "average accuracy for each k, fold 4: \n",
      "1      0.582886\n",
      "3      0.645977\n",
      "7      0.679693\n",
      "15     0.627075\n",
      "25     0.657471\n",
      "101    0.627586\n",
      "dtype: float64\n",
      "optimal k for fold 4: 7\n"
     ]
    },
    {
     "name": "stderr",
     "output_type": "stream",
     "text": [
      "100%|██████████| 9/9 [00:00<00:00, 26.38it/s]\n",
      " 60%|██████    | 6/10 [00:02<00:01,  2.46it/s]"
     ]
    },
    {
     "name": "stdout",
     "output_type": "stream",
     "text": [
      "tune accuracy matrix, fold 5: \n",
      "        1         3         7         15        25        101\n",
      "0  0.600000  0.600000  0.600000  0.633333  0.566667  0.533333\n",
      "1  0.466667  0.466667  0.766667  0.700000  0.700000  0.600000\n",
      "2  0.633333  0.600000  0.633333  0.533333  0.700000  0.733333\n",
      "3  0.400000  0.566667  0.600000  0.566667  0.700000  0.633333\n",
      "4  0.533333  0.666667  0.666667  0.600000  0.600000  0.700000\n",
      "5  0.633333  0.666667  0.700000  0.700000  0.666667  0.566667\n",
      "6  0.666667  0.666667  0.566667  0.500000  0.633333  0.500000\n",
      "7  0.620690  0.689655  0.758621  0.689655  0.689655  0.724138\n",
      "8  0.793103  0.724138  0.827586  0.758621  0.827586  0.758621\n",
      "average accuracy for each k, fold 5: \n",
      "1      0.594125\n",
      "3      0.627458\n",
      "7      0.679949\n",
      "15     0.631290\n",
      "25     0.675990\n",
      "101    0.638825\n",
      "dtype: float64\n",
      "optimal k for fold 5: 7\n"
     ]
    },
    {
     "name": "stderr",
     "output_type": "stream",
     "text": [
      "100%|██████████| 9/9 [00:00<00:00, 24.20it/s]\n",
      " 70%|███████   | 7/10 [00:02<00:01,  2.44it/s]"
     ]
    },
    {
     "name": "stdout",
     "output_type": "stream",
     "text": [
      "tune accuracy matrix, fold 6: \n",
      "        1         3         7         15        25        101\n",
      "0  0.633333  0.566667  0.633333  0.566667  0.566667  0.533333\n",
      "1  0.466667  0.466667  0.566667  0.633333  0.666667  0.600000\n",
      "2  0.566667  0.700000  0.633333  0.633333  0.600000  0.666667\n",
      "3  0.500000  0.600000  0.633333  0.566667  0.666667  0.633333\n",
      "4  0.533333  0.633333  0.600000  0.600000  0.600000  0.700000\n",
      "5  0.600000  0.700000  0.700000  0.633333  0.733333  0.566667\n",
      "6  0.600000  0.633333  0.633333  0.600000  0.600000  0.533333\n",
      "7  0.655172  0.655172  0.724138  0.689655  0.724138  0.793103\n",
      "8  0.758621  0.758621  0.758621  0.655172  0.827586  0.862069\n",
      "average accuracy for each k, fold 6: \n",
      "1      0.590421\n",
      "3      0.634866\n",
      "7      0.653640\n",
      "15     0.619796\n",
      "25     0.665006\n",
      "101    0.654278\n",
      "dtype: float64\n",
      "optimal k for fold 6: 25\n"
     ]
    },
    {
     "name": "stderr",
     "output_type": "stream",
     "text": [
      "100%|██████████| 9/9 [00:00<00:00, 25.15it/s]\n",
      " 80%|████████  | 8/10 [00:03<00:00,  2.47it/s]"
     ]
    },
    {
     "name": "stdout",
     "output_type": "stream",
     "text": [
      "tune accuracy matrix, fold 7: \n",
      "        1         3         7         15        25        101\n",
      "0  0.566667  0.533333  0.666667  0.600000  0.500000  0.566667\n",
      "1  0.500000  0.600000  0.666667  0.633333  0.666667  0.666667\n",
      "2  0.600000  0.633333  0.700000  0.633333  0.666667  0.633333\n",
      "3  0.366667  0.533333  0.533333  0.533333  0.633333  0.666667\n",
      "4  0.500000  0.666667  0.633333  0.633333  0.633333  0.666667\n",
      "5  0.700000  0.733333  0.700000  0.700000  0.733333  0.533333\n",
      "6  0.666667  0.633333  0.633333  0.600000  0.666667  0.566667\n",
      "7  0.620690  0.655172  0.758621  0.724138  0.724138  0.724138\n",
      "8  0.758621  0.724138  0.827586  0.758621  0.827586  0.689655\n",
      "average accuracy for each k, fold 7: \n",
      "1      0.586590\n",
      "3      0.634738\n",
      "7      0.679949\n",
      "15     0.646232\n",
      "25     0.672414\n",
      "101    0.634866\n",
      "dtype: float64\n",
      "optimal k for fold 7: 7\n"
     ]
    },
    {
     "name": "stderr",
     "output_type": "stream",
     "text": [
      "100%|██████████| 9/9 [00:00<00:00, 27.92it/s]\n",
      " 90%|█████████ | 9/10 [00:03<00:00,  2.54it/s]"
     ]
    },
    {
     "name": "stdout",
     "output_type": "stream",
     "text": [
      "tune accuracy matrix, fold 8: \n",
      "        1         3         7         15        25        101\n",
      "0  0.600000  0.533333  0.666667  0.566667  0.500000  0.500000\n",
      "1  0.466667  0.500000  0.666667  0.700000  0.666667  0.633333\n",
      "2  0.566667  0.666667  0.666667  0.633333  0.566667  0.633333\n",
      "3  0.433333  0.533333  0.533333  0.566667  0.700000  0.600000\n",
      "4  0.533333  0.666667  0.566667  0.633333  0.666667  0.666667\n",
      "5  0.633333  0.733333  0.766667  0.700000  0.733333  0.533333\n",
      "6  0.533333  0.600000  0.633333  0.566667  0.566667  0.533333\n",
      "7  0.586207  0.655172  0.689655  0.689655  0.689655  0.724138\n",
      "8  0.793103  0.758621  0.827586  0.689655  0.827586  0.724138\n",
      "average accuracy for each k, fold 8: \n",
      "1      0.571775\n",
      "3      0.627458\n",
      "7      0.668582\n",
      "15     0.638442\n",
      "25     0.657471\n",
      "101    0.616475\n",
      "dtype: float64\n",
      "optimal k for fold 8: 7\n"
     ]
    },
    {
     "name": "stderr",
     "output_type": "stream",
     "text": [
      "100%|██████████| 9/9 [00:00<00:00, 29.01it/s]\n",
      "100%|██████████| 10/10 [00:04<00:00,  2.48it/s]"
     ]
    },
    {
     "name": "stdout",
     "output_type": "stream",
     "text": [
      "tune accuracy matrix, fold 9: \n",
      "        1         3         7         15        25        101\n",
      "0  0.633333  0.600000  0.600000  0.633333  0.633333  0.533333\n",
      "1  0.500000  0.500000  0.700000  0.600000  0.733333  0.600000\n",
      "2  0.566667  0.700000  0.633333  0.666667  0.600000  0.733333\n",
      "3  0.433333  0.533333  0.600000  0.566667  0.633333  0.633333\n",
      "4  0.566667  0.633333  0.600000  0.666667  0.600000  0.700000\n",
      "5  0.600000  0.666667  0.700000  0.733333  0.733333  0.533333\n",
      "6  0.600000  0.633333  0.600000  0.566667  0.600000  0.566667\n",
      "7  0.620690  0.655172  0.689655  0.689655  0.758621  0.758621\n",
      "8  0.793103  0.655172  0.758621  0.758621  0.862069  0.827586\n",
      "average accuracy for each k, fold 9: \n",
      "1      0.590421\n",
      "3      0.619668\n",
      "7      0.653512\n",
      "15     0.653512\n",
      "25     0.683780\n",
      "101    0.654023\n",
      "dtype: float64\n",
      "optimal k for fold 9: 25\n",
      "[25, 25, 7, 7, 7, 7, 25, 7, 7, 25]\n",
      "average cv score: 0.6877011494252873\n"
     ]
    },
    {
     "name": "stderr",
     "output_type": "stream",
     "text": [
      "\n"
     ]
    }
   ],
   "source": [
    "from tqdm import trange\n",
    "\n",
    "def get_tune_results(train_tune_folds: List[int], k_values=[1, 3, 7, 15, 25, 101]):\n",
    "    results_dict = {k: [] for k in k_values}\n",
    "    for tune_fold in trange(len(train_tune_folds)):\n",
    "        X_tune, y_tune, example_names_tune = load_folds([tune_fold])\n",
    "        train_folds = [fold for fold in train_tune_folds if fold != tune_fold]\n",
    "        X_train, y_train, example_names_train = load_folds(train_folds)\n",
    "\n",
    "        for k in k_values:\n",
    "            clf = NaiveKNNClassifier(k)\n",
    "            clf.fit(X_train, y_train)\n",
    "            y_pred = clf.predict(X_tune)\n",
    "            score = accuracy_score(y_tune, y_pred)\n",
    "            results_dict[k].append(score)\n",
    "        \n",
    "    return pd.DataFrame(results_dict)\n",
    "\n",
    "def get_optimal_k(tune_results: pd.DataFrame):\n",
    "    return tune_results.columns[tune_results.mean().argmax()], tune_results.mean()\n",
    "\n",
    "\n",
    "def cv(num_folds=10):\n",
    "    cv_results = []\n",
    "    ks = []\n",
    "    for test_fold in trange(num_folds):\n",
    "        X_test, y_test, example_names_test = load_folds([test_fold])\n",
    "        train_folds = [fold for fold in range(num_folds) if fold != test_fold]\n",
    "        tune_results = get_tune_results(train_folds)\n",
    "        print(f'tune accuracy matrix, fold {test_fold}: \\n{tune_results}')\n",
    "        k, mean_results = get_optimal_k(tune_results)\n",
    "        ks.append(k)\n",
    "        print(f'average accuracy for each k, fold {test_fold}: \\n{mean_results}')\n",
    "        print(f'optimal k for fold {test_fold}: {k}')\n",
    "        clf = NaiveKNNClassifier(k)\n",
    "        X_train, y_train, example_names_train = load_folds(train_folds)\n",
    "        clf.fit(X_train, y_train)\n",
    "        y_pred = clf.predict(X_test)\n",
    "        acc = accuracy_score(y_test, y_pred)\n",
    "        cv_results.append(acc)\n",
    "\n",
    "    print(ks)\n",
    "    return cv_results\n",
    "\n",
    "cv_scores = cv()\n",
    "print(f'average cv score: {np.mean(cv_scores)}')"
   ]
  },
  {
   "cell_type": "code",
   "execution_count": null,
   "metadata": {},
   "outputs": [],
   "source": []
  }
 ],
 "metadata": {
  "interpreter": {
   "hash": "2d20419c564893ff7827d87520a6c3b654e0969c6aa9ae3b46a277348f487f0d"
  },
  "kernelspec": {
   "display_name": "Python 3.7.10 ('ds')",
   "language": "python",
   "name": "python3"
  },
  "language_info": {
   "codemirror_mode": {
    "name": "ipython",
    "version": 3
   },
   "file_extension": ".py",
   "mimetype": "text/x-python",
   "name": "python",
   "nbconvert_exporter": "python",
   "pygments_lexer": "ipython3",
   "version": "3.7.10"
  },
  "orig_nbformat": 4
 },
 "nbformat": 4,
 "nbformat_minor": 2
}
