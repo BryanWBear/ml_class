{
 "cells": [
  {
   "cell_type": "markdown",
   "metadata": {},
   "source": [
    "# Decision Trees\n",
    "\n",
    " Name | F1 | F2 | Output|\n",
    " | - | - | - | -|\n",
    "  Ex1 | b | b  | +|\n",
    "  Ex2 | c | b |  +|\n",
    "  Ex3 | b|  c  | +|\n",
    "  Ex4 | a | b  | -|\n",
    "  Ex5 | c | a |  -|\n",
    "\n",
    "\n",
    "1. What score would the information gain calculation assign to each of the features?  Be sure to show all your work.\n",
    "\n",
    "Solution: \n",
    "\n",
    "$IG(F1) = \\frac{2}{5}\\cdot 0 + \\frac{2}{5} \\cdot 1 + \\frac{1}{5} \\cdot 0 = 0.4$\n",
    "\n",
    "$IG(F2) = \\frac{3}{5} \\cdot I(\\frac{2}{3}, \\frac{1}{3}) + \\frac{1}{5} \\cdot 0 + \\frac{1}{5} \\cdot 0 \\approx 0.92 \\cdot 0.6 = .552$\n",
    "\n",
    "2. What would be the recursive calls be (show the specific arguments; use the examples’ names for simplicity)?\n",
    "\n",
    "Solution:\n",
    "\n",
    "First, split into 3 groups based on $F1$:\n",
    "\n",
    "Group 1 - {Ex1, Ex3} (Base Case)\n",
    "\n",
    "Group 2 - {Ex2, Ex5} (Split again based on $F2$, that takes us to base case for those two nodes)\n",
    "\n",
    "Group 3 - {Ex4} (Base Case)\n",
    "\n"
   ]
  },
  {
   "cell_type": "code",
   "execution_count": 2,
   "metadata": {},
   "outputs": [
    {
     "data": {
      "text/plain": [
       "0.9182958340544896"
      ]
     },
     "execution_count": 2,
     "metadata": {},
     "output_type": "execute_result"
    }
   ],
   "source": [
    "import numpy as np\n",
    "\n",
    "# calculation for I(2/3, 1/3)\n",
    "-(np.log2(2/3)*(2/3) + np.log2(1/3)*(1/3))"
   ]
  },
  {
   "cell_type": "markdown",
   "metadata": {},
   "source": [
    "## HW2a - Decision Tree ID3/C4.5 Algorithm (Alpaydin Fig 9.3)\n",
    "\n",
    "- Implement the earlier-listed ID3 algorithm ten times, train on 9 folds and test on one left out\n",
    "- Print the 10 learned trees and the min, max, and mean of the 10 testset accuracies"
   ]
  },
  {
   "cell_type": "code",
   "execution_count": 3,
   "metadata": {},
   "outputs": [],
   "source": [
    "from collections import Counter\n",
    "import pandas as pd\n",
    "\n",
    "x = Counter(np.array([1, 1, 2, 3]))\n",
    "x.get(5, None)"
   ]
  },
  {
   "cell_type": "code",
   "execution_count": 4,
   "metadata": {},
   "outputs": [],
   "source": [
    "import pandas as pd\n",
    "import numpy as np\n",
    "from typing import List\n",
    "\n",
    "class TreeNode:\n",
    "    def __init__(self, feature_idx=None):\n",
    "        self.mapping = {}\n",
    "        self.is_categorical = None\n",
    "        self.feature_idx = feature_idx\n",
    "        self.numeric_split = None\n",
    "        self.prediction = None\n",
    "\n",
    "    def predict(self, example: np.array):\n",
    "        if len(self.mapping) == 0:\n",
    "            # print(f'raw prediction: {self.prediction}')\n",
    "            return round(self.prediction)\n",
    "        if self.is_categorical:\n",
    "            try:\n",
    "                return self.mapping[example[self.feature_idx]]\n",
    "            except:\n",
    "                # print('missing value during evaluation')\n",
    "                return self.prediction\n",
    "        # feature is numeric\n",
    "        if example[self.feature_idx] <= self.numeric_split:\n",
    "            return self.mapping['left']\n",
    "        return self.mapping['right']\n",
    "\n",
    "\n",
    "    def __str__(self, level=0):\n",
    "        if self.mapping == {}:\n",
    "            return repr(self)\n",
    "        ret = \"\\t\"*level+f'{repr(self)}\\n'\n",
    "        for feature, child in self.mapping.items():\n",
    "            ret += (\"\\t\"*(level + 1) + f\"value {feature} ---\" + child.__str__(level+1) + '\\n')\n",
    "        return ret\n",
    "\n",
    "    def __repr__(self):\n",
    "        return f'feature idx: {self.feature_idx} is_categorical: {self.is_categorical} numeric_split: {self.numeric_split} prediction: {self.prediction}'\n",
    "\n",
    "\n",
    "class DecisionTreeClassifier:\n",
    "    def __init__(self, theta_i=0.5, num_classes=None, num_features=None, max_best_f=5):\n",
    "        self.theta_i = theta_i\n",
    "        self.tree = None\n",
    "        self.num_classes = num_classes\n",
    "        self.cat_feature_idx = None\n",
    "        self.count = 0\n",
    "        self.num_features = num_features\n",
    "        self.best_features = []\n",
    "        self.max_best_f = max_best_f\n",
    "        self.first_split = True\n",
    "\n",
    "    def get_class_counts(self, y: np.array):\n",
    "        assert len(y.shape) == 1 # y must be a 1-d array of outputs 0 ... self.num_classes\n",
    "        assert self.num_classes is not None\n",
    "        counts = np.zeros(self.num_classes)\n",
    "        for element in y:\n",
    "            counts[element] += 1\n",
    "        \n",
    "        return counts\n",
    "\n",
    "\n",
    "    def node_entropy(self, y: np.array): # note that the maximum entropy should be -log2(1/num_classes), not necessarily 1\n",
    "        counts = self.get_class_counts(y)\n",
    "        norm_counts = counts / len(y)\n",
    "        unsummed_entropy = norm_counts * np.log2(norm_counts)\n",
    "        unsummed_entropy = np.nan_to_num(unsummed_entropy)\n",
    "        return - np.sum(unsummed_entropy)\n",
    "\n",
    "\n",
    "    def split_entropy(self, branches: List[List], y: np.array):\n",
    "        entropy = 0\n",
    "        # print(branches, y)\n",
    "        for branch in branches:\n",
    "            entropy += self.node_entropy(y[branch]) * len(branch) / len(y)\n",
    "        return entropy\n",
    "\n",
    "\n",
    "    def split_categorical_feature(self, X_feat: np.array, y: np.array):\n",
    "        feat_df = pd.DataFrame({'X_feat': X_feat, 'y': y})\n",
    "        group_indices = {}\n",
    "        for group_name, group in feat_df.groupby('X_feat'):\n",
    "            group_indices[group_name] = group.index.to_numpy()\n",
    "        return group_indices\n",
    "\n",
    "\n",
    "    def split_attribute(self, X: np.array, y: np.array):\n",
    "        min_entropy = np.inf\n",
    "        best_f = None\n",
    "        is_categorical = False\n",
    "\n",
    "        if self.num_features is not None:\n",
    "            np.random.seed()\n",
    "            features_to_use = np.random.choice(range(X.shape[1]), size=self.num_features,replace=False)\n",
    "            # print(f'features to use: {features_to_use}')\n",
    "            # print(f'features to use: {self.features_to_use}')\n",
    "        else:\n",
    "            features_to_use = range(X.shape[1])\n",
    "        for i in features_to_use:\n",
    "            if i in self.cat_feature_idx:\n",
    "                feature_partition = self.split_categorical_feature(X[:, i], y)\n",
    "                # print(f'feature partition: {feature_partition}')\n",
    "                entropy = self.split_entropy(feature_partition.values(), y)\n",
    "                if entropy < min_entropy:\n",
    "                    min_entropy = entropy\n",
    "                    best_f = i\n",
    "                    best_mapping = feature_partition\n",
    "                    is_categorical = True\n",
    "                    # print(f'best f: {best_f}, entropy: {entropy}, feature_partition: {feature_partition}')\n",
    "                    cutoff = None\n",
    "            else:\n",
    "                # print('in else')\n",
    "                sort_permutation = X[:, i].argsort()\n",
    "                for j in range(1, len(y)):\n",
    "                    entropy = self.split_entropy([sort_permutation[:j], sort_permutation[j:]], y)\n",
    "                    # print(f'non cat entropy: {entropy}')\n",
    "                    if entropy < min_entropy:\n",
    "                        min_entropy = entropy\n",
    "                        best_mapping = {'left': sort_permutation[:j], 'right': sort_permutation[j:]}\n",
    "                        best_f = i\n",
    "                        is_categorical = False\n",
    "                        cutoff = (X[:, i][sort_permutation[j-1]] + X[:, i][sort_permutation[j]]) / 2 # mean of the two points\n",
    "\n",
    "                        # print(f'raw: {X[:, i]}')\n",
    "                        # print(f'best mapping: {best_mapping}')\n",
    "                        # print(f'bestf: {i}')\n",
    "                        # print(f'cutoff: {cutoff}')\n",
    "        \n",
    "        return best_mapping, best_f, is_categorical, cutoff\n",
    "\n",
    "\n",
    "\n",
    "\n",
    "    def generate_tree(self, X: np.array, y: np.array, current_node: TreeNode):\n",
    "        if self.node_entropy(y) <= self.theta_i:\n",
    "            current_node.prediction = len(y[y == 1]) / len(y)\n",
    "            return\n",
    "        best_mapping, best_f, is_categorical, cutoff = self.split_attribute(X, y)\n",
    "        self.best_features.append(best_f)\n",
    "        # print(self.best_features[self.max_best_f:])\n",
    "        # print(self.best_features[self.max_best_f:])\n",
    "        # if len(self.best_features) > self.max_best_f and len(np.unique(self.best_features[-self.max_best_f:])) == 1:\n",
    "        #     current_node.prediction = len(y[y == 1]) / len(y)\n",
    "        #     return    \n",
    "        for branch_name, branch_idx in best_mapping.items():\n",
    "            new_node = TreeNode()\n",
    "            current_node.feature_idx = best_f\n",
    "            current_node.is_categorical = is_categorical\n",
    "            current_node.numeric_split = cutoff\n",
    "            current_node.prediction = len(y[y == 1]) / len(y)\n",
    "            X_branch = X[branch_idx]\n",
    "            y_branch = y[branch_idx]\n",
    "            current_node.mapping[branch_name] = new_node\n",
    "\n",
    "            # if current_node.is_categorical:\n",
    "            #     print(f'bestf: {best_f}')\n",
    "            #     print(X, y)\n",
    "            self.generate_tree(X_branch, y_branch, new_node)\n",
    "        \n",
    "    def fit(self, X: np.array, y: np.array, cat_feature_idx: np.array):\n",
    "        self.num_classes = len(np.unique(y))\n",
    "        self.cat_feature_idx = cat_feature_idx\n",
    "        root = TreeNode()\n",
    "        self.tree = root\n",
    "        self.generate_tree(X, y, root)\n",
    "\n",
    "    def predict(self, X_test: np.array):\n",
    "        preds = []\n",
    "        for row in X_test:\n",
    "            predicted_early = False\n",
    "            current_node = self.tree\n",
    "            while len(current_node.mapping) > 0:\n",
    "                current_node = current_node.predict(row)\n",
    "                if type(current_node) == float:\n",
    "                    predicted_early = True\n",
    "                    prediction = current_node\n",
    "                    break\n",
    "            if not predicted_early:\n",
    "                prediction = current_node.predict(row)\n",
    "            preds.append(prediction)\n",
    "\n",
    "        return np.array(preds)"
   ]
  },
  {
   "cell_type": "code",
   "execution_count": 5,
   "metadata": {},
   "outputs": [
    {
     "name": "stderr",
     "output_type": "stream",
     "text": [
      "/usr/local/Caskroom/miniconda/base/envs/ds/lib/python3.7/site-packages/ipykernel_launcher.py:66: RuntimeWarning: divide by zero encountered in log2\n",
      "/usr/local/Caskroom/miniconda/base/envs/ds/lib/python3.7/site-packages/ipykernel_launcher.py:66: RuntimeWarning: invalid value encountered in multiply\n"
     ]
    }
   ],
   "source": [
    "# test 1: confirm classifier works with mock data\n",
    "\n",
    "X = np.array([[1,1.5], [2,2.3], [5, 5.5]])\n",
    "y = np.array([1,0,1])\n",
    "\n",
    "c = DecisionTreeClassifier()\n",
    "c.fit(X, y, cat_feature_idx=[0])\n",
    "\n",
    "assert np.array_equal(c.predict(X), y)"
   ]
  },
  {
   "cell_type": "code",
   "execution_count": 6,
   "metadata": {},
   "outputs": [
    {
     "name": "stderr",
     "output_type": "stream",
     "text": [
      "/usr/local/Caskroom/miniconda/base/envs/ds/lib/python3.7/site-packages/ipykernel_launcher.py:66: RuntimeWarning: divide by zero encountered in log2\n",
      "/usr/local/Caskroom/miniconda/base/envs/ds/lib/python3.7/site-packages/ipykernel_launcher.py:66: RuntimeWarning: invalid value encountered in multiply\n"
     ]
    }
   ],
   "source": [
    "# test 2: confirm classifier works with mock data\n",
    "\n",
    "X = np.array([[6.50, 1.0, 3], [6.9, 1.0, 3]])\n",
    "y = np.array([1, 0])\n",
    "\n",
    "c = DecisionTreeClassifier(num_features=2)\n",
    "c.fit(X, y, cat_feature_idx=[1])"
   ]
  },
  {
   "cell_type": "code",
   "execution_count": 7,
   "metadata": {},
   "outputs": [
    {
     "name": "stdout",
     "output_type": "stream",
     "text": [
      "feature idx: 2 is_categorical: False numeric_split: 3.0 prediction: 0.5\n",
      "\tvalue left ---feature idx: None is_categorical: None numeric_split: None prediction: 1.0\n",
      "\tvalue right ---feature idx: None is_categorical: None numeric_split: None prediction: 0.0\n",
      "\n"
     ]
    }
   ],
   "source": [
    "# print tree in ascii\n",
    "\n",
    "print(str(c.tree))"
   ]
  },
  {
   "cell_type": "markdown",
   "metadata": {},
   "source": [
    "# CV"
   ]
  },
  {
   "cell_type": "code",
   "execution_count": 8,
   "metadata": {},
   "outputs": [
    {
     "name": "stderr",
     "output_type": "stream",
     "text": [
      "  0%|          | 0/10 [00:00<?, ?it/s]/usr/local/Caskroom/miniconda/base/envs/ds/lib/python3.7/site-packages/ipykernel_launcher.py:66: RuntimeWarning: divide by zero encountered in log2\n",
      "/usr/local/Caskroom/miniconda/base/envs/ds/lib/python3.7/site-packages/ipykernel_launcher.py:66: RuntimeWarning: invalid value encountered in multiply\n",
      "100%|██████████| 10/10 [00:05<00:00,  2.00it/s]"
     ]
    },
    {
     "name": "stdout",
     "output_type": "stream",
     "text": [
      "min cv score: 0.7\n",
      "average cv score: 0.7679310344827586\n",
      "max cv score: 0.8\n"
     ]
    },
    {
     "name": "stderr",
     "output_type": "stream",
     "text": [
      "\n"
     ]
    }
   ],
   "source": [
    "from typing import List\n",
    "from tqdm import trange\n",
    "\n",
    "def accuracy_score(y_true, y_pred):\n",
    "    assert len(y_true) == len(y_pred)\n",
    "    return (y_true == y_pred).sum() / len(y_true)\n",
    "\n",
    "def load_one_file(filename: str):\n",
    "    data = np.load(filename, allow_pickle=True)\n",
    "    X = data['x']\n",
    "    y = data['y']\n",
    "    example_names = data['example_names']\n",
    "    return X, y, example_names\n",
    "\n",
    "def load_folds(folds: List[int]):\n",
    "    all_X = []\n",
    "    all_y = []\n",
    "    all_example_names = []\n",
    "    for fold in folds:\n",
    "        filename = f'/Users/brwang/Desktop/ml_class/hw0/data/heart_fold{fold}.npz'\n",
    "        X, y, example_names = load_one_file(filename)\n",
    "        all_X.append(X)\n",
    "        all_y.append(y)\n",
    "        all_example_names.append(example_names)\n",
    "\n",
    "    X_folds = np.concatenate(all_X, axis=0)\n",
    "    y_folds = np.concatenate(all_y)\n",
    "    example_names_folds = np.concatenate(all_example_names)\n",
    "        \n",
    "    return X_folds, y_folds, example_names_folds\n",
    "\n",
    "X, y, example_names = load_folds([0, 1])\n",
    "X.shape, y.shape, example_names.shape\n",
    "\n",
    "def cv(num_folds=10):\n",
    "    cv_results = []\n",
    "    ks = []\n",
    "    for test_fold in trange(num_folds):\n",
    "        X_test, y_test, example_names_test = load_folds([test_fold])\n",
    "        train_folds = [fold for fold in range(num_folds) if fold != test_fold]\n",
    "        clf = DecisionTreeClassifier(num_classes=2, num_features=5)\n",
    "        X_train, y_train, example_names_train = load_folds(train_folds)\n",
    "        clf.fit(X_train, y_train, cat_feature_idx=[1, 2, 5, 6, 8, 10, 11, 12])\n",
    "        y_pred = clf.predict(X_test)\n",
    "        acc = accuracy_score(y_test, y_pred)\n",
    "        cv_results.append(acc)\n",
    "    return cv_results\n",
    "\n",
    "cv_scores = cv()\n",
    "\n",
    "print(f'min cv score: {np.min(cv_scores)}')\n",
    "print(f'average cv score: {np.mean(cv_scores)}')\n",
    "print(f'max cv score: {np.max(cv_scores)}')"
   ]
  },
  {
   "cell_type": "code",
   "execution_count": 9,
   "metadata": {},
   "outputs": [
    {
     "data": {
      "text/plain": [
       "[0.7666666666666667,\n",
       " 0.7333333333333333,\n",
       " 0.7333333333333333,\n",
       " 0.7,\n",
       " 0.8,\n",
       " 0.7666666666666667,\n",
       " 0.8,\n",
       " 0.7931034482758621,\n",
       " 0.7931034482758621,\n",
       " 0.7931034482758621]"
      ]
     },
     "execution_count": 9,
     "metadata": {},
     "output_type": "execute_result"
    }
   ],
   "source": [
    "cv_scores"
   ]
  },
  {
   "cell_type": "code",
   "execution_count": 10,
   "metadata": {},
   "outputs": [
    {
     "name": "stdout",
     "output_type": "stream",
     "text": [
      "[1, 2, 3, 4, 5, 6, 7, 8, 9]\n"
     ]
    },
    {
     "name": "stderr",
     "output_type": "stream",
     "text": [
      "/usr/local/Caskroom/miniconda/base/envs/ds/lib/python3.7/site-packages/ipykernel_launcher.py:66: RuntimeWarning: divide by zero encountered in log2\n",
      "/usr/local/Caskroom/miniconda/base/envs/ds/lib/python3.7/site-packages/ipykernel_launcher.py:66: RuntimeWarning: invalid value encountered in multiply\n"
     ]
    },
    {
     "data": {
      "text/plain": [
       "0.7333333333333333"
      ]
     },
     "execution_count": 10,
     "metadata": {},
     "output_type": "execute_result"
    }
   ],
   "source": [
    "# debug using 1 fold\n",
    "\n",
    "X_test, y_test, example_names_test = load_folds([0])\n",
    "train_folds = [fold for fold in range(10) if fold != 0]\n",
    "print(train_folds)\n",
    "# tune_results = get_tune_results(train_folds)\n",
    "# print(f'tune accuracy matrix, fold {test_fold}: \\n{tune_results}')\n",
    "# k, mean_results = get_optimal_k(tune_results)\n",
    "# ks.append(k)\n",
    "# print(f'average accuracy for each k, fold {test_fold}: \\n{mean_results}')\n",
    "# print(f'optimal k for fold {test_fold}: {k}')\n",
    "clf = DecisionTreeClassifier(num_classes=2, theta_i=0)\n",
    "X_train, y_train, example_names_train = load_folds(train_folds)\n",
    "clf.fit(X_train, y_train, cat_feature_idx=[1, 2, 5, 6, 8, 10, 11, 12])\n",
    "y_pred = clf.predict(X_test)\n",
    "acc = accuracy_score(y_test, y_pred)\n",
    "acc"
   ]
  },
  {
   "cell_type": "code",
   "execution_count": 11,
   "metadata": {},
   "outputs": [
    {
     "name": "stdout",
     "output_type": "stream",
     "text": [
      "feature idx: 12 is_categorical: True numeric_split: None prediction: 0.47191011235955055\n",
      "\tvalue 3.0 ---\tfeature idx: 2 is_categorical: True numeric_split: None prediction: 0.22377622377622378\n",
      "\t\tvalue 1.0 ---\t\tfeature idx: 0 is_categorical: False numeric_split: 62.5 prediction: 0.2727272727272727\n",
      "\t\t\tvalue left ---\t\t\tfeature idx: 0 is_categorical: False numeric_split: 55.0 prediction: 0.42857142857142855\n",
      "\t\t\t\tvalue left ---feature idx: None is_categorical: None numeric_split: None prediction: 0.0\n",
      "\t\t\t\tvalue right ---\t\t\t\tfeature idx: 1 is_categorical: True numeric_split: None prediction: 0.75\n",
      "\t\t\t\t\tvalue 0.0 ---feature idx: None is_categorical: None numeric_split: None prediction: 0.0\n",
      "\t\t\t\t\tvalue 1.0 ---feature idx: None is_categorical: None numeric_split: None prediction: 1.0\n",
      "\n",
      "\n",
      "\t\t\tvalue right ---feature idx: None is_categorical: None numeric_split: None prediction: 0.0\n",
      "\n",
      "\t\tvalue 2.0 ---\t\tfeature idx: 0 is_categorical: False numeric_split: 56.5 prediction: 0.08333333333333333\n",
      "\t\t\tvalue left ---feature idx: None is_categorical: None numeric_split: None prediction: 0.0\n",
      "\t\t\tvalue right ---\t\t\tfeature idx: 0 is_categorical: False numeric_split: 58.5 prediction: 0.3333333333333333\n",
      "\t\t\t\tvalue left ---feature idx: None is_categorical: None numeric_split: None prediction: 1.0\n",
      "\t\t\t\tvalue right ---feature idx: None is_categorical: None numeric_split: None prediction: 0.0\n",
      "\n",
      "\n",
      "\t\tvalue 3.0 ---\t\tfeature idx: 7 is_categorical: False numeric_split: 158.0 prediction: 0.09615384615384616\n",
      "\t\t\tvalue left ---\t\t\tfeature idx: 1 is_categorical: True numeric_split: None prediction: 0.21739130434782608\n",
      "\t\t\t\tvalue 0.0 ---feature idx: None is_categorical: None numeric_split: None prediction: 0.0\n",
      "\t\t\t\tvalue 1.0 ---\t\t\t\tfeature idx: 4 is_categorical: False numeric_split: 243.0 prediction: 0.5\n",
      "\t\t\t\t\tvalue left ---\t\t\t\t\tfeature idx: 9 is_categorical: False numeric_split: 2.1 prediction: 0.375\n",
      "\t\t\t\t\t\tvalue left ---\t\t\t\t\t\tfeature idx: 4 is_categorical: False numeric_split: 162.0 prediction: 0.16666666666666666\n",
      "\t\t\t\t\t\t\tvalue left ---feature idx: None is_categorical: None numeric_split: None prediction: 1.0\n",
      "\t\t\t\t\t\t\tvalue right ---feature idx: None is_categorical: None numeric_split: None prediction: 0.0\n",
      "\n",
      "\t\t\t\t\t\tvalue right ---feature idx: None is_categorical: None numeric_split: None prediction: 1.0\n",
      "\n",
      "\t\t\t\t\tvalue right ---feature idx: None is_categorical: None numeric_split: None prediction: 1.0\n",
      "\n",
      "\n",
      "\t\t\tvalue right ---feature idx: None is_categorical: None numeric_split: None prediction: 0.0\n",
      "\n",
      "\t\tvalue 4.0 ---\t\tfeature idx: 11 is_categorical: True numeric_split: None prediction: 0.4772727272727273\n",
      "\t\t\tvalue 0.0 ---\t\t\tfeature idx: 0 is_categorical: False numeric_split: 54.5 prediction: 0.2413793103448276\n",
      "\t\t\t\tvalue left ---feature idx: None is_categorical: None numeric_split: None prediction: 0.0\n",
      "\t\t\t\tvalue right ---\t\t\t\tfeature idx: 3 is_categorical: False numeric_split: 120.0 prediction: 0.5\n",
      "\t\t\t\t\tvalue left ---feature idx: None is_categorical: None numeric_split: None prediction: 0.0\n",
      "\t\t\t\t\tvalue right ---\t\t\t\t\tfeature idx: 9 is_categorical: False numeric_split: 0.8 prediction: 0.6363636363636364\n",
      "\t\t\t\t\t\tvalue left ---\t\t\t\t\t\tfeature idx: 0 is_categorical: False numeric_split: 59.0 prediction: 0.5\n",
      "\t\t\t\t\t\t\tvalue left ---feature idx: None is_categorical: None numeric_split: None prediction: 0.0\n",
      "\t\t\t\t\t\t\tvalue right ---\t\t\t\t\t\t\tfeature idx: 0 is_categorical: False numeric_split: 61.5 prediction: 0.6666666666666666\n",
      "\t\t\t\t\t\t\t\tvalue left ---feature idx: None is_categorical: None numeric_split: None prediction: 1.0\n",
      "\t\t\t\t\t\t\t\tvalue right ---\t\t\t\t\t\t\t\tfeature idx: 4 is_categorical: False numeric_split: 203.0 prediction: 0.3333333333333333\n",
      "\t\t\t\t\t\t\t\t\tvalue left ---feature idx: None is_categorical: None numeric_split: None prediction: 1.0\n",
      "\t\t\t\t\t\t\t\t\tvalue right ---feature idx: None is_categorical: None numeric_split: None prediction: 0.0\n",
      "\n",
      "\n",
      "\n",
      "\t\t\t\t\t\tvalue right ---feature idx: None is_categorical: None numeric_split: None prediction: 1.0\n",
      "\n",
      "\n",
      "\n",
      "\t\t\tvalue 1.0 ---feature idx: None is_categorical: None numeric_split: None prediction: 1.0\n",
      "\t\t\tvalue 2.0 ---\t\t\tfeature idx: 4 is_categorical: False numeric_split: 245.5 prediction: 0.8\n",
      "\t\t\t\tvalue left ---feature idx: None is_categorical: None numeric_split: None prediction: 0.0\n",
      "\t\t\t\tvalue right ---feature idx: None is_categorical: None numeric_split: None prediction: 1.0\n",
      "\n",
      "\t\t\tvalue 3.0 ---feature idx: None is_categorical: None numeric_split: None prediction: 1.0\n",
      "\n",
      "\n",
      "\tvalue 6.0 ---\tfeature idx: 11 is_categorical: True numeric_split: None prediction: 0.625\n",
      "\t\tvalue 0.0 ---\t\tfeature idx: 0 is_categorical: False numeric_split: 48.0 prediction: 0.25\n",
      "\t\t\tvalue left ---\t\t\tfeature idx: 0 is_categorical: False numeric_split: 41.5 prediction: 0.6666666666666666\n",
      "\t\t\t\tvalue left ---feature idx: None is_categorical: None numeric_split: None prediction: 0.0\n",
      "\t\t\t\tvalue right ---feature idx: None is_categorical: None numeric_split: None prediction: 1.0\n",
      "\n",
      "\t\t\tvalue right ---feature idx: None is_categorical: None numeric_split: None prediction: 0.0\n",
      "\n",
      "\t\tvalue 1.0 ---feature idx: None is_categorical: None numeric_split: None prediction: 1.0\n",
      "\t\tvalue 2.0 ---feature idx: None is_categorical: None numeric_split: None prediction: 1.0\n",
      "\t\tvalue 3.0 ---feature idx: None is_categorical: None numeric_split: None prediction: 1.0\n",
      "\n",
      "\tvalue 7.0 ---\tfeature idx: 2 is_categorical: True numeric_split: None prediction: 0.7777777777777778\n",
      "\t\tvalue 1.0 ---\t\tfeature idx: 3 is_categorical: False numeric_split: 120.0 prediction: 0.375\n",
      "\t\t\tvalue left ---feature idx: None is_categorical: None numeric_split: None prediction: 1.0\n",
      "\t\t\tvalue right ---\t\t\tfeature idx: 9 is_categorical: False numeric_split: 0.4 prediction: 0.16666666666666666\n",
      "\t\t\t\tvalue left ---feature idx: None is_categorical: None numeric_split: None prediction: 1.0\n",
      "\t\t\t\tvalue right ---feature idx: None is_categorical: None numeric_split: None prediction: 0.0\n",
      "\n",
      "\n",
      "\t\tvalue 2.0 ---\t\tfeature idx: 3 is_categorical: False numeric_split: 120.0 prediction: 0.5714285714285714\n",
      "\t\t\tvalue left ---\t\t\tfeature idx: 9 is_categorical: False numeric_split: 0.5 prediction: 0.25\n",
      "\t\t\t\tvalue left ---feature idx: None is_categorical: None numeric_split: None prediction: 0.0\n",
      "\t\t\t\tvalue right ---feature idx: None is_categorical: None numeric_split: None prediction: 1.0\n",
      "\n",
      "\t\t\tvalue right ---feature idx: None is_categorical: None numeric_split: None prediction: 1.0\n",
      "\n",
      "\t\tvalue 3.0 ---\t\tfeature idx: 9 is_categorical: False numeric_split: 1.9 prediction: 0.5238095238095238\n",
      "\t\t\tvalue left ---\t\t\tfeature idx: 3 is_categorical: False numeric_split: 122.5 prediction: 0.375\n",
      "\t\t\t\tvalue left ---feature idx: None is_categorical: None numeric_split: None prediction: 0.0\n",
      "\t\t\t\tvalue right ---\t\t\t\tfeature idx: 10 is_categorical: True numeric_split: None prediction: 0.6\n",
      "\t\t\t\t\tvalue 1.0 ---feature idx: None is_categorical: None numeric_split: None prediction: 0.0\n",
      "\t\t\t\t\tvalue 2.0 ---\t\t\t\t\tfeature idx: 9 is_categorical: False numeric_split: 1.8 prediction: 0.8571428571428571\n",
      "\t\t\t\t\t\tvalue left ---feature idx: None is_categorical: None numeric_split: None prediction: 1.0\n",
      "\t\t\t\t\t\tvalue right ---feature idx: None is_categorical: None numeric_split: None prediction: 0.0\n",
      "\n",
      "\n",
      "\n",
      "\t\t\tvalue right ---feature idx: None is_categorical: None numeric_split: None prediction: 1.0\n",
      "\n",
      "\t\tvalue 4.0 ---\t\tfeature idx: 9 is_categorical: False numeric_split: 0.5 prediction: 0.9166666666666666\n",
      "\t\t\tvalue left ---\t\t\tfeature idx: 3 is_categorical: False numeric_split: 137.5 prediction: 0.6666666666666666\n",
      "\t\t\t\tvalue left ---\t\t\t\tfeature idx: 6 is_categorical: True numeric_split: None prediction: 0.5384615384615384\n",
      "\t\t\t\t\tvalue 0.0 ---\t\t\t\t\tfeature idx: 11 is_categorical: True numeric_split: None prediction: 0.3333333333333333\n",
      "\t\t\t\t\t\tvalue 0.0 ---feature idx: None is_categorical: None numeric_split: None prediction: 0.0\n",
      "\t\t\t\t\t\tvalue 1.0 ---\t\t\t\t\t\tfeature idx: 0 is_categorical: False numeric_split: 61.0 prediction: 0.6666666666666666\n",
      "\t\t\t\t\t\t\tvalue left ---feature idx: None is_categorical: None numeric_split: None prediction: 1.0\n",
      "\t\t\t\t\t\t\tvalue right ---feature idx: None is_categorical: None numeric_split: None prediction: 0.0\n",
      "\n",
      "\t\t\t\t\t\tvalue 2.0 ---feature idx: None is_categorical: None numeric_split: None prediction: 1.0\n",
      "\t\t\t\t\t\tvalue 3.0 ---feature idx: None is_categorical: None numeric_split: None prediction: 0.0\n",
      "\n",
      "\t\t\t\t\tvalue 2.0 ---feature idx: None is_categorical: None numeric_split: None prediction: 1.0\n",
      "\n",
      "\t\t\t\tvalue right ---feature idx: None is_categorical: None numeric_split: None prediction: 1.0\n",
      "\n",
      "\t\t\tvalue right ---feature idx: None is_categorical: None numeric_split: None prediction: 1.0\n",
      "\n",
      "\n",
      "\n"
     ]
    }
   ],
   "source": [
    "# printing tree for fold 0\n",
    "\n",
    "print(clf.tree)"
   ]
  },
  {
   "cell_type": "markdown",
   "metadata": {},
   "source": [
    "## HW 2B\n",
    "\n",
    "1. For each of your ten Heart Disease train sets, create 101 ‘bootstrap’ copies\n",
    "(if |trainSet| = N, randomly selection with replacement N examples). \n",
    "Write these to disk (at least if your ID3 code reads examples from disk)\n",
    "2. Extend HW2a so that ID3 takes an optional parameter, \n",
    "i, the number of candidate features to consider \n",
    "do runs with i in {1, 2, 3, 4, 5, 7} and use tuneset to choose the best i per test fold\n",
    "3. Apply forests to test set, predicting POSITIVE if at least half the trees do\n",
    "4. Plot mean testset accuracy as a function of size of forest (compare to kNN)\n",
    "       consider |forest| from 1 to 101   [aside: see ‘early stopping’ later]\n",
    "optional: learn decision STUMPS (one interior node) and see how they do\n",
    "                        Or limit each tree depth to, say, 3\n"
   ]
  },
  {
   "cell_type": "code",
   "execution_count": 12,
   "metadata": {},
   "outputs": [],
   "source": [
    "from collections import Counter\n",
    "from tqdm import tqdm\n",
    "\n",
    "class RandomForestClassifier:\n",
    "    def __init__(self, num_candidate_features=None, random_seeds=[], trees=None):\n",
    "        self.num_candidate_features = num_candidate_features\n",
    "        self.random_seeds = random_seeds\n",
    "        if trees is not None:\n",
    "            self.clfs = trees\n",
    "        else:\n",
    "            self.clfs = []\n",
    "\n",
    "\n",
    "    def bootstrap(self, X: np.array, y: np.array, random_seed):\n",
    "        np.random.seed(random_seed)\n",
    "        # print(Counter(np.random.randint(X.shape[0], size=X.shape[0])))\n",
    "        indices = np.random.randint(X.shape[0], size=X.shape[0])\n",
    "        X_b = X[indices, :]\n",
    "        y_b = y[indices]\n",
    "        return X_b, y_b\n",
    "\n",
    "    def fit(self, X: np.array, y: np.array, cat_feature_idx):\n",
    "        assert X.shape[0] == y.shape[0]\n",
    "        for seed in self.random_seeds:\n",
    "            X_b, y_b = self.bootstrap(X, y, seed)\n",
    "            if self.num_candidate_features:\n",
    "                clf = DecisionTreeClassifier(num_features=self.num_candidate_features)\n",
    "            else:\n",
    "                clf = DecisionTreeClassifier(num_features=X.shape[0])\n",
    "            clf.fit(X_b, y_b, cat_feature_idx)\n",
    "            self.clfs.append(clf)\n",
    "\n",
    "    def predict(self, X_test: np.array):\n",
    "        votes = []\n",
    "        for clf in self.clfs:\n",
    "            vote = clf.predict(X_test)\n",
    "            votes.append(vote)\n",
    "\n",
    "        majority_votes = []\n",
    "        for all_votes in np.stack(votes).T:\n",
    "            majority_vote = Counter(all_votes).most_common(1)[0][0]\n",
    "            majority_votes.append(majority_vote)\n",
    "\n",
    "        # return majority vote\n",
    "        return np.array(majority_votes)"
   ]
  },
  {
   "cell_type": "code",
   "execution_count": 13,
   "metadata": {},
   "outputs": [
    {
     "name": "stderr",
     "output_type": "stream",
     "text": [
      "/usr/local/Caskroom/miniconda/base/envs/ds/lib/python3.7/site-packages/ipykernel_launcher.py:66: RuntimeWarning: divide by zero encountered in log2\n",
      "/usr/local/Caskroom/miniconda/base/envs/ds/lib/python3.7/site-packages/ipykernel_launcher.py:66: RuntimeWarning: invalid value encountered in multiply\n"
     ]
    },
    {
     "data": {
      "text/plain": [
       "0.8333333333333334"
      ]
     },
     "execution_count": 13,
     "metadata": {},
     "output_type": "execute_result"
    }
   ],
   "source": [
    "# debug using 1 fold\n",
    "\n",
    "X_test, y_test, example_names_test = load_folds([0])\n",
    "train_folds = [fold for fold in range(10) if fold != 0]\n",
    "# tune_results = get_tune_results(train_folds)\n",
    "# print(f'tune accuracy matrix, fold {test_fold}: \\n{tune_results}')\n",
    "# k, mean_results = get_optimal_k(tune_results)\n",
    "# ks.append(k)\n",
    "# print(f'average accuracy for each k, fold {test_fold}: \\n{mean_results}')\n",
    "# print(f'optimal k for fold {test_fold}: {k}')\n",
    "clf = RandomForestClassifier(num_candidate_features=5, random_seeds=list(range(101)))\n",
    "X_train, y_train, example_names_train = load_folds(train_folds)\n",
    "clf.fit(X_train, y_train, cat_feature_idx=[1, 2, 5, 6, 8, 10, 11, 12])\n",
    "y_pred = clf.predict(X_test)\n",
    "acc = accuracy_score(y_test, y_pred)\n",
    "acc"
   ]
  },
  {
   "cell_type": "code",
   "execution_count": 14,
   "metadata": {},
   "outputs": [
    {
     "name": "stdout",
     "output_type": "stream",
     "text": [
      "starting fold 0\n",
      "tune accuracy matrix, fold 0: \n",
      "          1         2         3         4         5         7\n",
      "0  0.833333  0.866667  0.833333  0.800000  0.800000  0.833333\n",
      "1  0.833333  0.833333  0.866667  0.833333  0.800000  0.833333\n",
      "2  0.933333  0.900000  0.900000  0.966667  0.933333  0.933333\n",
      "3  0.666667  0.700000  0.600000  0.633333  0.633333  0.666667\n",
      "4  0.866667  0.900000  0.800000  0.866667  0.833333  0.833333\n",
      "5  0.833333  0.766667  0.833333  0.766667  0.800000  0.766667\n",
      "6  0.833333  0.733333  0.800000  0.766667  0.766667  0.766667\n",
      "7  0.793103  0.793103  0.793103  0.793103  0.793103  0.793103\n",
      "8  0.758621  0.827586  0.793103  0.793103  0.793103  0.793103\n",
      "average accuracy for each k, fold 0: \n",
      "1    0.816858\n",
      "2    0.813410\n",
      "3    0.802171\n",
      "4    0.802171\n",
      "5    0.794764\n",
      "7    0.802171\n",
      "dtype: float64\n",
      "optimal k for fold 0: 1\n",
      "time for fold: 1396.8318231105804\n",
      "starting fold 1\n",
      "tune accuracy matrix, fold 1: \n",
      "          1         2         3         4         5         7\n",
      "0  0.833333  0.833333  0.866667  0.833333  0.833333  0.833333\n",
      "1  0.866667  0.833333  0.900000  0.800000  0.866667  0.900000\n",
      "2  0.933333  0.933333  0.933333  0.966667  0.966667  0.966667\n",
      "3  0.600000  0.733333  0.633333  0.700000  0.666667  0.633333\n",
      "4  0.833333  0.800000  0.833333  0.866667  0.800000  0.766667\n",
      "5  0.800000  0.800000  0.833333  0.833333  0.833333  0.800000\n",
      "6  0.733333  0.833333  0.866667  0.800000  0.833333  0.766667\n",
      "7  0.793103  0.689655  0.758621  0.758621  0.758621  0.724138\n",
      "8  0.862069  0.793103  0.758621  0.758621  0.758621  0.793103\n",
      "average accuracy for each k, fold 1: \n",
      "1    0.806130\n",
      "2    0.805492\n",
      "3    0.820434\n",
      "4    0.813027\n",
      "5    0.813027\n",
      "7    0.798212\n",
      "dtype: float64\n",
      "optimal k for fold 1: 3\n",
      "time for fold: 1459.4631197452545\n",
      "starting fold 2\n",
      "tune accuracy matrix, fold 2: \n",
      "          1         2         3         4         5         7\n",
      "0  0.833333  0.800000  0.833333  0.866667  0.800000  0.800000\n",
      "1  0.866667  0.866667  0.866667  0.833333  0.866667  0.866667\n",
      "2  0.933333  0.933333  0.900000  0.966667  0.966667  0.966667\n",
      "3  0.733333  0.700000  0.666667  0.766667  0.700000  0.666667\n",
      "4  0.866667  0.833333  0.866667  0.866667  0.833333  0.833333\n",
      "5  0.766667  0.833333  0.833333  0.800000  0.800000  0.800000\n",
      "6  0.833333  0.800000  0.833333  0.766667  0.800000  0.800000\n",
      "7  0.862069  0.793103  0.758621  0.793103  0.793103  0.758621\n",
      "8  0.827586  0.862069  0.793103  0.827586  0.793103  0.793103\n",
      "average accuracy for each k, fold 2: \n",
      "1    0.835888\n",
      "2    0.824649\n",
      "3    0.816858\n",
      "4    0.831928\n",
      "5    0.816986\n",
      "7    0.809451\n",
      "dtype: float64\n",
      "optimal k for fold 2: 1\n",
      "time for fold: 1517.1816239356995\n",
      "starting fold 3\n",
      "tune accuracy matrix, fold 3: \n",
      "          1         2         3         4         5         7\n",
      "0  0.800000  0.833333  0.833333  0.833333  0.833333  0.833333\n",
      "1  0.800000  0.833333  0.866667  0.866667  0.900000  0.800000\n",
      "2  0.933333  0.933333  0.966667  0.966667  0.966667  0.966667\n",
      "3  0.700000  0.700000  0.666667  0.600000  0.633333  0.633333\n",
      "4  0.833333  0.833333  0.833333  0.833333  0.800000  0.800000\n",
      "5  0.800000  0.800000  0.800000  0.800000  0.800000  0.766667\n",
      "6  0.800000  0.833333  0.800000  0.800000  0.800000  0.733333\n",
      "7  0.758621  0.793103  0.793103  0.793103  0.827586  0.793103\n",
      "8  0.827586  0.827586  0.827586  0.827586  0.827586  0.827586\n",
      "average accuracy for each k, fold 3: \n",
      "1    0.805875\n",
      "2    0.820817\n",
      "3    0.820817\n",
      "4    0.813410\n",
      "5    0.820945\n",
      "7    0.794891\n",
      "dtype: float64\n",
      "optimal k for fold 3: 5\n",
      "time for fold: 1463.5450358390808\n",
      "starting fold 4\n",
      "tune accuracy matrix, fold 4: \n",
      "          1         2         3         4         5         7\n",
      "0  0.866667  0.833333  0.800000  0.833333  0.800000  0.833333\n",
      "1  0.833333  0.866667  0.833333  0.866667  0.900000  0.900000\n",
      "2  0.900000  0.966667  0.933333  0.966667  0.966667  0.966667\n",
      "3  0.700000  0.733333  0.666667  0.666667  0.633333  0.666667\n",
      "4  0.800000  0.866667  0.900000  0.866667  0.833333  0.800000\n",
      "5  0.800000  0.800000  0.766667  0.800000  0.800000  0.800000\n",
      "6  0.800000  0.733333  0.800000  0.766667  0.700000  0.733333\n",
      "7  0.793103  0.862069  0.793103  0.793103  0.793103  0.793103\n",
      "8  0.862069  0.793103  0.827586  0.827586  0.793103  0.862069\n",
      "average accuracy for each k, fold 4: \n",
      "1    0.817241\n",
      "2    0.828352\n",
      "3    0.813410\n",
      "4    0.820817\n",
      "5    0.802171\n",
      "7    0.817241\n",
      "dtype: float64\n",
      "optimal k for fold 4: 2\n",
      "time for fold: 1324.6362090110779\n",
      "starting fold 5\n",
      "tune accuracy matrix, fold 5: \n",
      "          1         2         3         4         5         7\n",
      "0  0.766667  0.833333  0.866667  0.833333  0.833333  0.766667\n",
      "1  0.866667  0.833333  0.833333  0.866667  0.866667  0.866667\n",
      "2  0.933333  0.933333  0.966667  0.966667  0.933333  0.933333\n",
      "3  0.700000  0.733333  0.800000  0.766667  0.700000  0.733333\n",
      "4  0.833333  0.833333  0.800000  0.833333  0.800000  0.866667\n",
      "5  0.733333  0.833333  0.800000  0.800000  0.800000  0.800000\n",
      "6  0.800000  0.866667  0.833333  0.800000  0.800000  0.800000\n",
      "7  0.793103  0.862069  0.827586  0.862069  0.827586  0.862069\n",
      "8  0.827586  0.827586  0.862069  0.827586  0.758621  0.827586\n",
      "average accuracy for each k, fold 5: \n",
      "1    0.806003\n",
      "2    0.839591\n",
      "3    0.843295\n",
      "4    0.839591\n",
      "5    0.813282\n",
      "7    0.828480\n",
      "dtype: float64\n",
      "optimal k for fold 5: 3\n",
      "time for fold: 1175.6762101650238\n",
      "starting fold 6\n",
      "tune accuracy matrix, fold 6: \n",
      "          1         2         3         4         5         7\n",
      "0  0.833333  0.833333  0.800000  0.866667  0.800000  0.800000\n",
      "1  0.833333  0.833333  0.833333  0.866667  0.866667  0.866667\n",
      "2  0.966667  0.933333  0.933333  0.966667  0.966667  0.966667\n",
      "3  0.700000  0.733333  0.666667  0.666667  0.666667  0.633333\n",
      "4  0.766667  0.833333  0.800000  0.866667  0.766667  0.833333\n",
      "5  0.733333  0.800000  0.800000  0.800000  0.800000  0.800000\n",
      "6  0.800000  0.800000  0.766667  0.800000  0.766667  0.766667\n",
      "7  0.827586  0.827586  0.793103  0.758621  0.758621  0.793103\n",
      "8  0.862069  0.827586  0.758621  0.758621  0.758621  0.758621\n",
      "average accuracy for each k, fold 6: \n",
      "1    0.813665\n",
      "2    0.824649\n",
      "3    0.794636\n",
      "4    0.816731\n",
      "5    0.794508\n",
      "7    0.802043\n",
      "dtype: float64\n",
      "optimal k for fold 6: 2\n",
      "time for fold: 1162.1336448192596\n",
      "starting fold 7\n",
      "tune accuracy matrix, fold 7: \n",
      "          1         2         3         4         5         7\n",
      "0  0.833333  0.833333  0.833333  0.833333  0.833333  0.800000\n",
      "1  0.866667  0.833333  0.833333  0.866667  0.833333  0.800000\n",
      "2  0.933333  0.933333  0.933333  0.933333  0.966667  0.933333\n",
      "3  0.666667  0.733333  0.666667  0.766667  0.633333  0.700000\n",
      "4  0.866667  0.833333  0.866667  0.833333  0.833333  0.866667\n",
      "5  0.800000  0.800000  0.766667  0.766667  0.800000  0.766667\n",
      "6  0.833333  0.800000  0.800000  0.800000  0.800000  0.800000\n",
      "7  0.827586  0.793103  0.793103  0.793103  0.827586  0.793103\n",
      "8  0.827586  0.793103  0.827586  0.793103  0.758621  0.793103\n",
      "average accuracy for each k, fold 7: \n",
      "1    0.828352\n",
      "2    0.816986\n",
      "3    0.813410\n",
      "4    0.820690\n",
      "5    0.809579\n",
      "7    0.805875\n",
      "dtype: float64\n",
      "optimal k for fold 7: 1\n",
      "time for fold: 1165.7350027561188\n",
      "starting fold 8\n",
      "tune accuracy matrix, fold 8: \n",
      "          1         2         3         4         5         7\n",
      "0  0.800000  0.833333  0.833333  0.833333  0.833333  0.833333\n",
      "1  0.833333  0.900000  0.866667  0.866667  0.833333  0.833333\n",
      "2  0.900000  0.933333  0.933333  0.933333  0.933333  0.966667\n",
      "3  0.666667  0.666667  0.733333  0.700000  0.666667  0.666667\n",
      "4  0.866667  0.866667  0.800000  0.800000  0.833333  0.800000\n",
      "5  0.833333  0.833333  0.833333  0.800000  0.800000  0.800000\n",
      "6  0.833333  0.866667  0.800000  0.800000  0.833333  0.733333\n",
      "7  0.793103  0.793103  0.827586  0.793103  0.758621  0.758621\n",
      "8  0.827586  0.827586  0.827586  0.793103  0.793103  0.862069\n",
      "average accuracy for each k, fold 8: \n",
      "1    0.817114\n",
      "2    0.835632\n",
      "3    0.828352\n",
      "4    0.813282\n",
      "5    0.809451\n",
      "7    0.806003\n",
      "dtype: float64\n",
      "optimal k for fold 8: 2\n",
      "time for fold: 1207.500382900238\n",
      "starting fold 9\n",
      "tune accuracy matrix, fold 9: \n",
      "          1         2         3         4         5         7\n",
      "0  0.800000  0.800000  0.766667  0.833333  0.800000  0.766667\n",
      "1  0.900000  0.900000  0.833333  0.866667  0.833333  0.833333\n",
      "2  0.900000  0.933333  0.933333  0.933333  0.966667  0.933333\n",
      "3  0.700000  0.800000  0.733333  0.633333  0.666667  0.633333\n",
      "4  0.833333  0.800000  0.800000  0.800000  0.833333  0.800000\n",
      "5  0.800000  0.766667  0.766667  0.766667  0.766667  0.766667\n",
      "6  0.800000  0.800000  0.800000  0.766667  0.766667  0.766667\n",
      "7  0.827586  0.862069  0.827586  0.862069  0.827586  0.827586\n",
      "8  0.931034  0.793103  0.758621  0.793103  0.827586  0.827586\n",
      "average accuracy for each k, fold 9: \n",
      "1    0.832439\n",
      "2    0.828352\n",
      "3    0.802171\n",
      "4    0.806130\n",
      "5    0.809834\n",
      "7    0.795019\n",
      "dtype: float64\n",
      "optimal k for fold 9: 1\n",
      "time for fold: 1241.7634658813477\n",
      "[1, 3, 1, 5, 2, 3, 2, 1, 2, 1]\n",
      "average cv score: 0.8182758620689656\n"
     ]
    }
   ],
   "source": [
    "from tqdm import trange\n",
    "import time\n",
    "import warnings\n",
    "\n",
    "# supress warnings\n",
    "warnings.filterwarnings(\"ignore\")\n",
    "\n",
    "def get_tune_results(train_tune_folds: List[int], k_values=[1, 2, 3, 4, 5, 7], random_seeds=None):\n",
    "    results_dict = {k: [] for k in k_values}\n",
    "    for tune_fold in range(len(train_tune_folds)):\n",
    "        X_tune, y_tune, example_names_tune = load_folds([tune_fold])\n",
    "        train_folds = [fold for fold in train_tune_folds if fold != tune_fold]\n",
    "        X_train, y_train, example_names_train = load_folds(train_folds)\n",
    "\n",
    "        for k in k_values:\n",
    "            clf = RandomForestClassifier(num_candidate_features=k, random_seeds=random_seeds)\n",
    "            clf.fit(X_train, y_train, cat_feature_idx=[1, 2, 5, 6, 8, 10, 11, 12])\n",
    "            y_pred = clf.predict(X_tune)\n",
    "            score = accuracy_score(y_tune, y_pred)\n",
    "            results_dict[k].append(score)\n",
    "        \n",
    "    return pd.DataFrame(results_dict)\n",
    "\n",
    "def get_optimal_k(tune_results: pd.DataFrame):\n",
    "    return tune_results.columns[tune_results.mean().argmax()], tune_results.mean()\n",
    "\n",
    "\n",
    "def cv(num_folds=10, random_seeds=list(range(101))):\n",
    "    cv_results = []\n",
    "    ks = []\n",
    "    for test_fold in range(num_folds):\n",
    "        print(f'starting fold {test_fold}')\n",
    "        start = time.time()\n",
    "        X_test, y_test, example_names_test = load_folds([test_fold])\n",
    "        train_folds = [fold for fold in range(num_folds) if fold != test_fold]\n",
    "        tune_results = get_tune_results(train_folds, random_seeds=random_seeds)\n",
    "        print(f'tune accuracy matrix, fold {test_fold}: \\n{tune_results}')\n",
    "        k, mean_results = get_optimal_k(tune_results)\n",
    "        ks.append(k)\n",
    "        print(f'average accuracy for each k, fold {test_fold}: \\n{mean_results}')\n",
    "        print(f'optimal k for fold {test_fold}: {k}')\n",
    "        clf = RandomForestClassifier(num_candidate_features=k, random_seeds=random_seeds)\n",
    "        X_train, y_train, example_names_train = load_folds(train_folds)\n",
    "        clf.fit(X_train, y_train, cat_feature_idx=[1, 2, 5, 6, 8, 10, 11, 12])\n",
    "        y_pred = clf.predict(X_test)\n",
    "        acc = accuracy_score(y_test, y_pred)\n",
    "        cv_results.append(acc)\n",
    "        end = time.time()\n",
    "        print(f'time for fold: {end - start}')\n",
    "\n",
    "    print(ks)\n",
    "    return cv_results\n",
    "\n",
    "cv_scores = cv()\n",
    "print(f'average cv score: {np.mean(cv_scores)}')"
   ]
  },
  {
   "cell_type": "code",
   "execution_count": 16,
   "metadata": {},
   "outputs": [
    {
     "name": "stderr",
     "output_type": "stream",
     "text": [
      "100%|██████████| 21/21 [35:09<00:00, 100.45s/it]\n"
     ]
    }
   ],
   "source": [
    "# redundant, but quick\n",
    "def short_cv(num_folds=10, random_seeds=None, optimal_k=[1, 3, 1, 5, 2, 3, 2, 1, 2, 1]):\n",
    "    num_trees_cv_map = {}\n",
    "    for num_trees in trange(1, 102, 5):\n",
    "        cv_results = []\n",
    "        for test_fold in range(num_folds):\n",
    "            X_test, y_test, example_names_test = load_folds([test_fold])\n",
    "            train_folds = [fold for fold in range(num_folds) if fold != test_fold]\n",
    "            clf = RandomForestClassifier(num_candidate_features=optimal_k[test_fold], random_seeds=list(range(num_trees)))\n",
    "            X_train, y_train, example_names_train = load_folds(train_folds)\n",
    "            clf.fit(X_train, y_train, cat_feature_idx=[1, 2, 5, 6, 8, 10, 11, 12])\n",
    "            y_pred = clf.predict(X_test)\n",
    "            acc = accuracy_score(y_test, y_pred)\n",
    "            cv_results.append(acc)\n",
    "        num_trees_cv_map[num_trees] = np.mean(cv_results)\n",
    "\n",
    "    return num_trees_cv_map\n",
    "\n",
    "cv_map = short_cv()"
   ]
  },
  {
   "cell_type": "code",
   "execution_count": 20,
   "metadata": {},
   "outputs": [
    {
     "data": {
      "application/vnd.plotly.v1+json": {
       "config": {
        "plotlyServerURL": "https://plot.ly"
       },
       "data": [
        {
         "hovertemplate": "x=%{x}<br>y=%{y}<extra></extra>",
         "legendgroup": "",
         "line": {
          "color": "#636efa",
          "dash": "solid"
         },
         "marker": {
          "symbol": "circle"
         },
         "mode": "lines",
         "name": "",
         "orientation": "v",
         "showlegend": false,
         "type": "scatter",
         "x": [
          1,
          6,
          11,
          16,
          21,
          26,
          31,
          36,
          41,
          46,
          51,
          56,
          61,
          66,
          71,
          76,
          81,
          86,
          91,
          96,
          101
         ],
         "xaxis": "x",
         "y": [
          0.6872413793103449,
          0.8216091954022989,
          0.8080459770114942,
          0.801609195402299,
          0.7982758620689656,
          0.8186206896551724,
          0.8147126436781609,
          0.7913793103448277,
          0.8219540229885057,
          0.8283908045977011,
          0.8114942528735632,
          0.8150574712643678,
          0.8183908045977013,
          0.8047126436781611,
          0.8352873563218391,
          0.8113793103448277,
          0.8148275862068965,
          0.8251724137931035,
          0.8216091954022989,
          0.8251724137931035,
          0.8047126436781611
         ],
         "yaxis": "y"
        }
       ],
       "layout": {
        "legend": {
         "tracegroupgap": 0
        },
        "margin": {
         "t": 60
        },
        "template": {
         "data": {
          "bar": [
           {
            "error_x": {
             "color": "#2a3f5f"
            },
            "error_y": {
             "color": "#2a3f5f"
            },
            "marker": {
             "line": {
              "color": "#E5ECF6",
              "width": 0.5
             },
             "pattern": {
              "fillmode": "overlay",
              "size": 10,
              "solidity": 0.2
             }
            },
            "type": "bar"
           }
          ],
          "barpolar": [
           {
            "marker": {
             "line": {
              "color": "#E5ECF6",
              "width": 0.5
             },
             "pattern": {
              "fillmode": "overlay",
              "size": 10,
              "solidity": 0.2
             }
            },
            "type": "barpolar"
           }
          ],
          "carpet": [
           {
            "aaxis": {
             "endlinecolor": "#2a3f5f",
             "gridcolor": "white",
             "linecolor": "white",
             "minorgridcolor": "white",
             "startlinecolor": "#2a3f5f"
            },
            "baxis": {
             "endlinecolor": "#2a3f5f",
             "gridcolor": "white",
             "linecolor": "white",
             "minorgridcolor": "white",
             "startlinecolor": "#2a3f5f"
            },
            "type": "carpet"
           }
          ],
          "choropleth": [
           {
            "colorbar": {
             "outlinewidth": 0,
             "ticks": ""
            },
            "type": "choropleth"
           }
          ],
          "contour": [
           {
            "colorbar": {
             "outlinewidth": 0,
             "ticks": ""
            },
            "colorscale": [
             [
              0,
              "#0d0887"
             ],
             [
              0.1111111111111111,
              "#46039f"
             ],
             [
              0.2222222222222222,
              "#7201a8"
             ],
             [
              0.3333333333333333,
              "#9c179e"
             ],
             [
              0.4444444444444444,
              "#bd3786"
             ],
             [
              0.5555555555555556,
              "#d8576b"
             ],
             [
              0.6666666666666666,
              "#ed7953"
             ],
             [
              0.7777777777777778,
              "#fb9f3a"
             ],
             [
              0.8888888888888888,
              "#fdca26"
             ],
             [
              1,
              "#f0f921"
             ]
            ],
            "type": "contour"
           }
          ],
          "contourcarpet": [
           {
            "colorbar": {
             "outlinewidth": 0,
             "ticks": ""
            },
            "type": "contourcarpet"
           }
          ],
          "heatmap": [
           {
            "colorbar": {
             "outlinewidth": 0,
             "ticks": ""
            },
            "colorscale": [
             [
              0,
              "#0d0887"
             ],
             [
              0.1111111111111111,
              "#46039f"
             ],
             [
              0.2222222222222222,
              "#7201a8"
             ],
             [
              0.3333333333333333,
              "#9c179e"
             ],
             [
              0.4444444444444444,
              "#bd3786"
             ],
             [
              0.5555555555555556,
              "#d8576b"
             ],
             [
              0.6666666666666666,
              "#ed7953"
             ],
             [
              0.7777777777777778,
              "#fb9f3a"
             ],
             [
              0.8888888888888888,
              "#fdca26"
             ],
             [
              1,
              "#f0f921"
             ]
            ],
            "type": "heatmap"
           }
          ],
          "heatmapgl": [
           {
            "colorbar": {
             "outlinewidth": 0,
             "ticks": ""
            },
            "colorscale": [
             [
              0,
              "#0d0887"
             ],
             [
              0.1111111111111111,
              "#46039f"
             ],
             [
              0.2222222222222222,
              "#7201a8"
             ],
             [
              0.3333333333333333,
              "#9c179e"
             ],
             [
              0.4444444444444444,
              "#bd3786"
             ],
             [
              0.5555555555555556,
              "#d8576b"
             ],
             [
              0.6666666666666666,
              "#ed7953"
             ],
             [
              0.7777777777777778,
              "#fb9f3a"
             ],
             [
              0.8888888888888888,
              "#fdca26"
             ],
             [
              1,
              "#f0f921"
             ]
            ],
            "type": "heatmapgl"
           }
          ],
          "histogram": [
           {
            "marker": {
             "pattern": {
              "fillmode": "overlay",
              "size": 10,
              "solidity": 0.2
             }
            },
            "type": "histogram"
           }
          ],
          "histogram2d": [
           {
            "colorbar": {
             "outlinewidth": 0,
             "ticks": ""
            },
            "colorscale": [
             [
              0,
              "#0d0887"
             ],
             [
              0.1111111111111111,
              "#46039f"
             ],
             [
              0.2222222222222222,
              "#7201a8"
             ],
             [
              0.3333333333333333,
              "#9c179e"
             ],
             [
              0.4444444444444444,
              "#bd3786"
             ],
             [
              0.5555555555555556,
              "#d8576b"
             ],
             [
              0.6666666666666666,
              "#ed7953"
             ],
             [
              0.7777777777777778,
              "#fb9f3a"
             ],
             [
              0.8888888888888888,
              "#fdca26"
             ],
             [
              1,
              "#f0f921"
             ]
            ],
            "type": "histogram2d"
           }
          ],
          "histogram2dcontour": [
           {
            "colorbar": {
             "outlinewidth": 0,
             "ticks": ""
            },
            "colorscale": [
             [
              0,
              "#0d0887"
             ],
             [
              0.1111111111111111,
              "#46039f"
             ],
             [
              0.2222222222222222,
              "#7201a8"
             ],
             [
              0.3333333333333333,
              "#9c179e"
             ],
             [
              0.4444444444444444,
              "#bd3786"
             ],
             [
              0.5555555555555556,
              "#d8576b"
             ],
             [
              0.6666666666666666,
              "#ed7953"
             ],
             [
              0.7777777777777778,
              "#fb9f3a"
             ],
             [
              0.8888888888888888,
              "#fdca26"
             ],
             [
              1,
              "#f0f921"
             ]
            ],
            "type": "histogram2dcontour"
           }
          ],
          "mesh3d": [
           {
            "colorbar": {
             "outlinewidth": 0,
             "ticks": ""
            },
            "type": "mesh3d"
           }
          ],
          "parcoords": [
           {
            "line": {
             "colorbar": {
              "outlinewidth": 0,
              "ticks": ""
             }
            },
            "type": "parcoords"
           }
          ],
          "pie": [
           {
            "automargin": true,
            "type": "pie"
           }
          ],
          "scatter": [
           {
            "fillpattern": {
             "fillmode": "overlay",
             "size": 10,
             "solidity": 0.2
            },
            "type": "scatter"
           }
          ],
          "scatter3d": [
           {
            "line": {
             "colorbar": {
              "outlinewidth": 0,
              "ticks": ""
             }
            },
            "marker": {
             "colorbar": {
              "outlinewidth": 0,
              "ticks": ""
             }
            },
            "type": "scatter3d"
           }
          ],
          "scattercarpet": [
           {
            "marker": {
             "colorbar": {
              "outlinewidth": 0,
              "ticks": ""
             }
            },
            "type": "scattercarpet"
           }
          ],
          "scattergeo": [
           {
            "marker": {
             "colorbar": {
              "outlinewidth": 0,
              "ticks": ""
             }
            },
            "type": "scattergeo"
           }
          ],
          "scattergl": [
           {
            "marker": {
             "colorbar": {
              "outlinewidth": 0,
              "ticks": ""
             }
            },
            "type": "scattergl"
           }
          ],
          "scattermapbox": [
           {
            "marker": {
             "colorbar": {
              "outlinewidth": 0,
              "ticks": ""
             }
            },
            "type": "scattermapbox"
           }
          ],
          "scatterpolar": [
           {
            "marker": {
             "colorbar": {
              "outlinewidth": 0,
              "ticks": ""
             }
            },
            "type": "scatterpolar"
           }
          ],
          "scatterpolargl": [
           {
            "marker": {
             "colorbar": {
              "outlinewidth": 0,
              "ticks": ""
             }
            },
            "type": "scatterpolargl"
           }
          ],
          "scatterternary": [
           {
            "marker": {
             "colorbar": {
              "outlinewidth": 0,
              "ticks": ""
             }
            },
            "type": "scatterternary"
           }
          ],
          "surface": [
           {
            "colorbar": {
             "outlinewidth": 0,
             "ticks": ""
            },
            "colorscale": [
             [
              0,
              "#0d0887"
             ],
             [
              0.1111111111111111,
              "#46039f"
             ],
             [
              0.2222222222222222,
              "#7201a8"
             ],
             [
              0.3333333333333333,
              "#9c179e"
             ],
             [
              0.4444444444444444,
              "#bd3786"
             ],
             [
              0.5555555555555556,
              "#d8576b"
             ],
             [
              0.6666666666666666,
              "#ed7953"
             ],
             [
              0.7777777777777778,
              "#fb9f3a"
             ],
             [
              0.8888888888888888,
              "#fdca26"
             ],
             [
              1,
              "#f0f921"
             ]
            ],
            "type": "surface"
           }
          ],
          "table": [
           {
            "cells": {
             "fill": {
              "color": "#EBF0F8"
             },
             "line": {
              "color": "white"
             }
            },
            "header": {
             "fill": {
              "color": "#C8D4E3"
             },
             "line": {
              "color": "white"
             }
            },
            "type": "table"
           }
          ]
         },
         "layout": {
          "annotationdefaults": {
           "arrowcolor": "#2a3f5f",
           "arrowhead": 0,
           "arrowwidth": 1
          },
          "autotypenumbers": "strict",
          "coloraxis": {
           "colorbar": {
            "outlinewidth": 0,
            "ticks": ""
           }
          },
          "colorscale": {
           "diverging": [
            [
             0,
             "#8e0152"
            ],
            [
             0.1,
             "#c51b7d"
            ],
            [
             0.2,
             "#de77ae"
            ],
            [
             0.3,
             "#f1b6da"
            ],
            [
             0.4,
             "#fde0ef"
            ],
            [
             0.5,
             "#f7f7f7"
            ],
            [
             0.6,
             "#e6f5d0"
            ],
            [
             0.7,
             "#b8e186"
            ],
            [
             0.8,
             "#7fbc41"
            ],
            [
             0.9,
             "#4d9221"
            ],
            [
             1,
             "#276419"
            ]
           ],
           "sequential": [
            [
             0,
             "#0d0887"
            ],
            [
             0.1111111111111111,
             "#46039f"
            ],
            [
             0.2222222222222222,
             "#7201a8"
            ],
            [
             0.3333333333333333,
             "#9c179e"
            ],
            [
             0.4444444444444444,
             "#bd3786"
            ],
            [
             0.5555555555555556,
             "#d8576b"
            ],
            [
             0.6666666666666666,
             "#ed7953"
            ],
            [
             0.7777777777777778,
             "#fb9f3a"
            ],
            [
             0.8888888888888888,
             "#fdca26"
            ],
            [
             1,
             "#f0f921"
            ]
           ],
           "sequentialminus": [
            [
             0,
             "#0d0887"
            ],
            [
             0.1111111111111111,
             "#46039f"
            ],
            [
             0.2222222222222222,
             "#7201a8"
            ],
            [
             0.3333333333333333,
             "#9c179e"
            ],
            [
             0.4444444444444444,
             "#bd3786"
            ],
            [
             0.5555555555555556,
             "#d8576b"
            ],
            [
             0.6666666666666666,
             "#ed7953"
            ],
            [
             0.7777777777777778,
             "#fb9f3a"
            ],
            [
             0.8888888888888888,
             "#fdca26"
            ],
            [
             1,
             "#f0f921"
            ]
           ]
          },
          "colorway": [
           "#636efa",
           "#EF553B",
           "#00cc96",
           "#ab63fa",
           "#FFA15A",
           "#19d3f3",
           "#FF6692",
           "#B6E880",
           "#FF97FF",
           "#FECB52"
          ],
          "font": {
           "color": "#2a3f5f"
          },
          "geo": {
           "bgcolor": "white",
           "lakecolor": "white",
           "landcolor": "#E5ECF6",
           "showlakes": true,
           "showland": true,
           "subunitcolor": "white"
          },
          "hoverlabel": {
           "align": "left"
          },
          "hovermode": "closest",
          "mapbox": {
           "style": "light"
          },
          "paper_bgcolor": "white",
          "plot_bgcolor": "#E5ECF6",
          "polar": {
           "angularaxis": {
            "gridcolor": "white",
            "linecolor": "white",
            "ticks": ""
           },
           "bgcolor": "#E5ECF6",
           "radialaxis": {
            "gridcolor": "white",
            "linecolor": "white",
            "ticks": ""
           }
          },
          "scene": {
           "xaxis": {
            "backgroundcolor": "#E5ECF6",
            "gridcolor": "white",
            "gridwidth": 2,
            "linecolor": "white",
            "showbackground": true,
            "ticks": "",
            "zerolinecolor": "white"
           },
           "yaxis": {
            "backgroundcolor": "#E5ECF6",
            "gridcolor": "white",
            "gridwidth": 2,
            "linecolor": "white",
            "showbackground": true,
            "ticks": "",
            "zerolinecolor": "white"
           },
           "zaxis": {
            "backgroundcolor": "#E5ECF6",
            "gridcolor": "white",
            "gridwidth": 2,
            "linecolor": "white",
            "showbackground": true,
            "ticks": "",
            "zerolinecolor": "white"
           }
          },
          "shapedefaults": {
           "line": {
            "color": "#2a3f5f"
           }
          },
          "ternary": {
           "aaxis": {
            "gridcolor": "white",
            "linecolor": "white",
            "ticks": ""
           },
           "baxis": {
            "gridcolor": "white",
            "linecolor": "white",
            "ticks": ""
           },
           "bgcolor": "#E5ECF6",
           "caxis": {
            "gridcolor": "white",
            "linecolor": "white",
            "ticks": ""
           }
          },
          "title": {
           "x": 0.05
          },
          "xaxis": {
           "automargin": true,
           "gridcolor": "white",
           "linecolor": "white",
           "ticks": "",
           "title": {
            "standoff": 15
           },
           "zerolinecolor": "white",
           "zerolinewidth": 2
          },
          "yaxis": {
           "automargin": true,
           "gridcolor": "white",
           "linecolor": "white",
           "ticks": "",
           "title": {
            "standoff": 15
           },
           "zerolinecolor": "white",
           "zerolinewidth": 2
          }
         }
        },
        "xaxis": {
         "anchor": "y",
         "domain": [
          0,
          1
         ],
         "title": {
          "text": "x"
         }
        },
        "yaxis": {
         "anchor": "x",
         "domain": [
          0,
          1
         ],
         "title": {
          "text": "y"
         }
        }
       }
      }
     },
     "metadata": {},
     "output_type": "display_data"
    }
   ],
   "source": [
    "import plotly.express as px\n",
    "\n",
    "px.line(x=list(cv_map.keys()), y=list(cv_map.values()))"
   ]
  },
  {
   "cell_type": "code",
   "execution_count": null,
   "metadata": {},
   "outputs": [],
   "source": []
  }
 ],
 "metadata": {
  "interpreter": {
   "hash": "2d20419c564893ff7827d87520a6c3b654e0969c6aa9ae3b46a277348f487f0d"
  },
  "kernelspec": {
   "display_name": "Python 3.7.10 ('ds')",
   "language": "python",
   "name": "python3"
  },
  "language_info": {
   "codemirror_mode": {
    "name": "ipython",
    "version": 3
   },
   "file_extension": ".py",
   "mimetype": "text/x-python",
   "name": "python",
   "nbconvert_exporter": "python",
   "pygments_lexer": "ipython3",
   "version": "3.7.10"
  },
  "orig_nbformat": 4
 },
 "nbformat": 4,
 "nbformat_minor": 2
}
