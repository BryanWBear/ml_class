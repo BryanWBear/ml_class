{
 "cells": [
  {
   "cell_type": "markdown",
   "metadata": {},
   "source": [
    "# Decision Trees\n",
    "\n",
    " Name | F1 | F2 | Output|\n",
    " | - | - | - | -|\n",
    "  Ex1 | b | b  | +|\n",
    "  Ex2 | c | b |  +|\n",
    "  Ex3 | b|  c  | +|\n",
    "  Ex4 | a | b  | -|\n",
    "  Ex5 | c | a |  -|\n",
    "\n",
    "\n",
    "1. What score would the information gain calculation assign to each of the features?  Be sure to show all your work.\n",
    "\n",
    "Solution: \n",
    "\n",
    "$IG(F1) = \\frac{2}{5}\\cdot 0 + \\frac{2}{5} \\cdot 1 + \\frac{1}{5} \\cdot 0 = 0.4$\n",
    "\n",
    "$IG(F2) = \\frac{3}{5} \\cdot I(\\frac{2}{3}, \\frac{1}{3}) + \\frac{1}{5} \\cdot 0 + \\frac{1}{5} \\cdot 0 \\approx 0.92 \\cdot 0.6 = .552$\n",
    "\n",
    "2. What would be the recursive calls be (show the specific arguments; use the examples’ names for simplicity)?\n",
    "\n",
    "Solution:\n",
    "\n",
    "First, split into 3 groups based on $F1$:\n",
    "\n",
    "Group 1 - {Ex1, Ex3} (Base Case)\n",
    "\n",
    "Group 2 - {Ex2, Ex5} (Split again based on $F2$, that takes us to base case for those two nodes)\n",
    "\n",
    "Group 3 - {Ex4} (Base Case)\n",
    "\n"
   ]
  },
  {
   "cell_type": "code",
   "execution_count": 1,
   "metadata": {},
   "outputs": [
    {
     "data": {
      "text/plain": [
       "0.9182958340544896"
      ]
     },
     "execution_count": 1,
     "metadata": {},
     "output_type": "execute_result"
    }
   ],
   "source": [
    "import numpy as np\n",
    "\n",
    "# calculation for I(2/3, 1/3)\n",
    "-(np.log2(2/3)*(2/3) + np.log2(1/3)*(1/3))"
   ]
  },
  {
   "cell_type": "markdown",
   "metadata": {},
   "source": [
    "## Decision Tree C4.5 Algorithm"
   ]
  },
  {
   "cell_type": "code",
   "execution_count": 8,
   "metadata": {},
   "outputs": [],
   "source": [
    "from collections import Counter\n",
    "\n",
    "x = Counter(np.array([1, 1, 2, 3]))\n",
    "x.get(5, None)"
   ]
  },
  {
   "cell_type": "code",
   "execution_count": 17,
   "metadata": {},
   "outputs": [
    {
     "name": "stdout",
     "output_type": "stream",
     "text": [
      "[0.2 0.4 0.4 0. ]\n"
     ]
    },
    {
     "name": "stderr",
     "output_type": "stream",
     "text": [
      "/usr/local/Caskroom/miniconda/base/envs/ds/lib/python3.7/site-packages/ipykernel_launcher.py:28: RuntimeWarning: divide by zero encountered in log2\n",
      "/usr/local/Caskroom/miniconda/base/envs/ds/lib/python3.7/site-packages/ipykernel_launcher.py:28: RuntimeWarning: invalid value encountered in multiply\n"
     ]
    },
    {
     "data": {
      "text/plain": [
       "1.5219280948873621"
      ]
     },
     "execution_count": 17,
     "metadata": {},
     "output_type": "execute_result"
    }
   ],
   "source": [
    "class TreeNode:\n",
    "    def __init__(self, is_categorical, is_leaf, mapping=None, feature_idx=None, prediction=None):\n",
    "        self.mapping = mapping\n",
    "        self.is_categorical = is_categorical\n",
    "        self.is_leaf = is_leaf\n",
    "        self.feature_idx = feature_idx\n",
    "        self.numeric_split = None\n",
    "\n",
    "    def predict(self, example: np.array):\n",
    "        if self.is_leaf:\n",
    "            return self.prediction\n",
    "        if self.is_categorical:\n",
    "            return self.mapping[self.feature_idx]\n",
    "        # feature is numeric\n",
    "        if example[self.feature_idx] <= self.numeric_split:\n",
    "            return self.mapping['left']\n",
    "        return self.mapping['right']\n",
    "\n",
    "\n",
    "class DecisionTreeClassifier:\n",
    "    def __init__(self, theta_i=0.5, num_classes=None):\n",
    "        self.theta_i = theta_i\n",
    "        self.tree = None\n",
    "        self.num_classes = num_classes\n",
    "        self.cat_feature_idx = None\n",
    "\n",
    "    def get_class_counts(self, y: np.array):\n",
    "        assert len(y.shape) == 1 # y must be a 1-d array of outputs 0 ... self.num_classes\n",
    "        assert self.num_classes is not None\n",
    "        counts = np.zeros(self.num_classes)\n",
    "        for element in y:\n",
    "            counts[element] += 1\n",
    "        \n",
    "        return counts\n",
    "\n",
    "\n",
    "    def node_entropy(self, y: np.array): # note that the maximum entropy should be -log2(1/num_classes), not necessarily 1\n",
    "        counts = self.get_class_counts(y)\n",
    "        norm_counts = counts / len(y)\n",
    "        unsummed_entropy = norm_counts * np.log2(norm_counts)\n",
    "        unsummed_entropy = np.nan_to_num(unsummed_entropy)\n",
    "        return - np.sum(unsummed_entropy)\n",
    "\n",
    "\n",
    "    def split_entropy(self, branches, y):\n",
    "        pass\n",
    "\n",
    "\n",
    "    def split_attribute(self, X: np.array, y: np.array):\n",
    "        pass\n",
    "\n",
    "\n",
    "    def generate_tree(self, X: np.array, y: np.array, current_node: TreeNode):\n",
    "        if self.node_entropy(y) < self.theta_i:\n",
    "            majority_class = np.argmax(np.bincount(y))\n",
    "            return TreeNode(prediction=majority_class)\n",
    "        feature_idx = self.split_attribute(X, y)\n",
    "        for branch in self.get_branches(X, y, feature_idx):\n",
    "            # new_node = TreeNode(...)\n",
    "            # current_node.mapping[branch] = generate_tree(X_branch, y_branch, new_node)\n",
    "            pass\n",
    "        \n",
    "    def fit(self, X: np.array, y: np.array, cat_feature_idx: np.array):\n",
    "        self.num_classes = len(np.unique(y))\n",
    "        self.cat_feature_idx = cat_feature_idx\n",
    "        pass\n",
    "\n",
    "    def predict(self, X_test: np.array):\n",
    "        pass\n",
    "\n",
    "c = DecisionTreeClassifier(num_classes=4)\n",
    "c.node_entropy(np.array([0, 2, 1, 1, 2]))"
   ]
  },
  {
   "cell_type": "code",
   "execution_count": null,
   "metadata": {},
   "outputs": [],
   "source": []
  }
 ],
 "metadata": {
  "interpreter": {
   "hash": "2d20419c564893ff7827d87520a6c3b654e0969c6aa9ae3b46a277348f487f0d"
  },
  "kernelspec": {
   "display_name": "Python 3.7.10 ('ds')",
   "language": "python",
   "name": "python3"
  },
  "language_info": {
   "codemirror_mode": {
    "name": "ipython",
    "version": 3
   },
   "file_extension": ".py",
   "mimetype": "text/x-python",
   "name": "python",
   "nbconvert_exporter": "python",
   "pygments_lexer": "ipython3",
   "version": "3.7.10"
  },
  "orig_nbformat": 4
 },
 "nbformat": 4,
 "nbformat_minor": 2
}
