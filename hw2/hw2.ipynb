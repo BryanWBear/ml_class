{
 "cells": [
  {
   "cell_type": "markdown",
   "metadata": {},
   "source": [
    "# Decision Trees\n",
    "\n",
    " Name | F1 | F2 | Output|\n",
    " | - | - | - | -|\n",
    "  Ex1 | b | b  | +|\n",
    "  Ex2 | c | b |  +|\n",
    "  Ex3 | b|  c  | +|\n",
    "  Ex4 | a | b  | -|\n",
    "  Ex5 | c | a |  -|\n",
    "\n",
    "\n",
    "1. What score would the information gain calculation assign to each of the features?  Be sure to show all your work.\n",
    "\n",
    "Solution: \n",
    "\n",
    "$IG(F1) = \\frac{2}{5}\\cdot 0 + \\frac{2}{5} \\cdot 1 + \\frac{1}{5} \\cdot 0 = 0.4$\n",
    "\n",
    "$IG(F2) = \\frac{3}{5} \\cdot I(\\frac{2}{3}, \\frac{1}{3}) + \\frac{1}{5} \\cdot 0 + \\frac{1}{5} \\cdot 0 \\approx 0.92 \\cdot 0.6 = .552$\n",
    "\n",
    "2. What would be the recursive calls be (show the specific arguments; use the examples’ names for simplicity)?\n",
    "\n",
    "Solution:\n",
    "\n",
    "First, split into 3 groups based on $F1$:\n",
    "\n",
    "Group 1 - {Ex1, Ex3} (Base Case)\n",
    "\n",
    "Group 2 - {Ex2, Ex5} (Split again based on $F2$, that takes us to base case for those two nodes)\n",
    "\n",
    "Group 3 - {Ex4} (Base Case)\n",
    "\n"
   ]
  },
  {
   "cell_type": "code",
   "execution_count": 5,
   "metadata": {},
   "outputs": [
    {
     "data": {
      "text/plain": [
       "0.9182958340544896"
      ]
     },
     "execution_count": 5,
     "metadata": {},
     "output_type": "execute_result"
    }
   ],
   "source": [
    "import numpy as np\n",
    "\n",
    "# calculation for I(2/3, 1/3)\n",
    "-(np.log2(2/3)*(2/3) + np.log2(1/3)*(1/3))"
   ]
  },
  {
   "cell_type": "code",
   "execution_count": null,
   "metadata": {},
   "outputs": [],
   "source": []
  }
 ],
 "metadata": {
  "interpreter": {
   "hash": "2d20419c564893ff7827d87520a6c3b654e0969c6aa9ae3b46a277348f487f0d"
  },
  "kernelspec": {
   "display_name": "Python 3.7.10 ('ds')",
   "language": "python",
   "name": "python3"
  },
  "language_info": {
   "codemirror_mode": {
    "name": "ipython",
    "version": 3
   },
   "file_extension": ".py",
   "mimetype": "text/x-python",
   "name": "python",
   "nbconvert_exporter": "python",
   "pygments_lexer": "ipython3",
   "version": "3.7.10"
  },
  "orig_nbformat": 4
 },
 "nbformat": 4,
 "nbformat_minor": 2
}
